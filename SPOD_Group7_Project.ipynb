{
 "cells": [
  {
   "cell_type": "markdown",
   "metadata": {
    "pycharm": {
     "name": "#%% md\n"
    }
   },
   "source": [
    "# Weather in Australia - Team 7"
   ]
  },
  {
   "cell_type": "markdown",
   "metadata": {
    "pycharm": {
     "name": "#%% md\n"
    }
   },
   "source": [
    "This cell just loads all used moduls for running the notebook. Please install any package if you dont have it installed in your environment so far."
   ]
  },
  {
   "cell_type": "code",
   "execution_count": 1,
   "metadata": {
    "pycharm": {
     "name": "#%%\n"
    }
   },
   "outputs": [],
   "source": [
    "#disable some annoying warnings\n",
    "import warnings\n",
    "warnings.filterwarnings('ignore', category=FutureWarning)\n",
    "#----------------------------#\n",
    "import pandas as pd\n",
    "import numpy as np\n",
    "import matplotlib.pyplot as plt\n",
    "import seaborn as sns\n",
    "from matplotlib import pyplot\n",
    "#plots the figures in place instead of a new window\n",
    "%matplotlib inline\n",
    "\n",
    "import statistics\n",
    "\n",
    "from sklearn.preprocessing import StandardScaler\n",
    "from sklearn.decomposition import PCA\n",
    "from sklearn import decomposition\n",
    "from numpy import unique\n",
    "from numpy import where\n",
    "from sklearn.datasets import make_classification\n",
    "from sklearn.cluster import KMeans\n",
    "from matplotlib import pyplot\n",
    "from sklearn.cluster import AffinityPropagation\n",
    "from sklearn.cluster import AgglomerativeClustering\n",
    "from IPython.display import display, clear_output\n",
    "\n",
    "from sklearn.ensemble import GradientBoostingClassifier\n",
    "from sklearn.tree import DecisionTreeClassifier\n",
    "from sklearn.model_selection import cross_val_score\n",
    "from sklearn.model_selection import train_test_split\n",
    "from sklearn.model_selection import KFold\n",
    "from sklearn import tree\n",
    "from sklearn.model_selection import GridSearchCV\n",
    "from sklearn.metrics import accuracy_score, confusion_matrix, recall_score, precision_score, roc_auc_score, roc_curve\n",
    "from sklearn import preprocessing\n",
    "from sklearn.preprocessing import LabelEncoder\n",
    "from sklearn.ensemble import RandomForestClassifier\n",
    "from xgboost import XGBClassifier\n",
    "\n",
    "from abess import LinearRegression\n",
    "import statsmodels.api as sm"
   ]
  },
  {
   "cell_type": "markdown",
   "metadata": {
    "pycharm": {
     "name": "#%% md\n"
    }
   },
   "source": [
    "# Dataset Overview\n",
    "\n",
    "We chose the rain in Australia dataset from Kaggle because we thought that it could be interesting to analyze a dataset with around 145000 rows. It is also interesting that data from about 10 years of daily observations from different locations throughout Australia has been collected.\n",
    "\n",
    "Besides several numerical attributes, also several categorical attributes are provided. The attributes of the used dataset are explained below.\n",
    "\n",
    "<ol>\n",
    "    <li> Date: The observation's date\n",
    "    <li> Location: The location of the observation\n",
    "    <li> MinTemp: The minimum temperature on that day (°C)\n",
    "    <li> MaxTemp: The maximum temperature on that day (°C)\n",
    "    <li> Rainfall: The rainfall amount measured in mm\n",
    "    <li> Evaporation: The evaporation also measured in mm\n",
    "    <li> Sunshine: The number of sunshine hours\n",
    "    <li> WindGustDir: The strongest wind gust's direction\n",
    "    <li> WindGustSpeed: The strongest wind gust's speed in km/h\n",
    "    <li> WindDir9am: The wind's direction at 9 AM\n",
    "    <li> WindDir3pm: The wind's direction at 3 PM\n",
    "    <li> WindSpeed9am: The wind's speed (km/h) at 9 AM\n",
    "    <li> WindSpeed3pm: The wind's speed (km/h) at 3 PM\n",
    "    <li> Humidity9am: The humidity percentage at 9 AM\n",
    "    <li> Humidity3pm: The humidity percentage at 3 PM\n",
    "    <li> Pressure9am: The atmospheric pressure (hpa) at 9 AM\n",
    "    <li> Pressure3pm: The atmospheric pressure (hpa) at 3 PM\n",
    "    <li> Cloud9am: Fraction of obscured sky by clouds (in \"oktas\") at 9 AM\n",
    "    <li> Cloud3pm: Same as above but at 3 PM\n",
    "    <li> Temp9am: Temperature in °C at 9 AM\n",
    "    <li> Temp3pm: Temperature in °C at 3 PM\n",
    "    <li> RainToday: True, if it has been raining on that day, otherwise False\n",
    "    <li> RainTomorrow: True, if it has been raining on the next day, otherwise False; target variable\n",
    "<ol>"
   ]
  },
  {
   "cell_type": "code",
   "execution_count": 2,
   "metadata": {
    "pycharm": {
     "name": "#%%\n"
    }
   },
   "outputs": [
    {
     "data": {
      "text/html": [
       "<div>\n",
       "<style scoped>\n",
       "    .dataframe tbody tr th:only-of-type {\n",
       "        vertical-align: middle;\n",
       "    }\n",
       "\n",
       "    .dataframe tbody tr th {\n",
       "        vertical-align: top;\n",
       "    }\n",
       "\n",
       "    .dataframe thead th {\n",
       "        text-align: right;\n",
       "    }\n",
       "</style>\n",
       "<table border=\"1\" class=\"dataframe\">\n",
       "  <thead>\n",
       "    <tr style=\"text-align: right;\">\n",
       "      <th></th>\n",
       "      <th>Date</th>\n",
       "      <th>Location</th>\n",
       "      <th>MinTemp</th>\n",
       "      <th>MaxTemp</th>\n",
       "      <th>Rainfall</th>\n",
       "      <th>Evaporation</th>\n",
       "      <th>Sunshine</th>\n",
       "      <th>WindGustDir</th>\n",
       "      <th>WindGustSpeed</th>\n",
       "      <th>WindDir9am</th>\n",
       "      <th>...</th>\n",
       "      <th>Humidity9am</th>\n",
       "      <th>Humidity3pm</th>\n",
       "      <th>Pressure9am</th>\n",
       "      <th>Pressure3pm</th>\n",
       "      <th>Cloud9am</th>\n",
       "      <th>Cloud3pm</th>\n",
       "      <th>Temp9am</th>\n",
       "      <th>Temp3pm</th>\n",
       "      <th>RainToday</th>\n",
       "      <th>RainTomorrow</th>\n",
       "    </tr>\n",
       "  </thead>\n",
       "  <tbody>\n",
       "    <tr>\n",
       "      <th>0</th>\n",
       "      <td>2008-12-01</td>\n",
       "      <td>Albury</td>\n",
       "      <td>13.4</td>\n",
       "      <td>22.9</td>\n",
       "      <td>0.6</td>\n",
       "      <td>NaN</td>\n",
       "      <td>NaN</td>\n",
       "      <td>W</td>\n",
       "      <td>44.0</td>\n",
       "      <td>W</td>\n",
       "      <td>...</td>\n",
       "      <td>71.0</td>\n",
       "      <td>22.0</td>\n",
       "      <td>1007.7</td>\n",
       "      <td>1007.1</td>\n",
       "      <td>8.0</td>\n",
       "      <td>NaN</td>\n",
       "      <td>16.9</td>\n",
       "      <td>21.8</td>\n",
       "      <td>No</td>\n",
       "      <td>No</td>\n",
       "    </tr>\n",
       "    <tr>\n",
       "      <th>1</th>\n",
       "      <td>2008-12-02</td>\n",
       "      <td>Albury</td>\n",
       "      <td>7.4</td>\n",
       "      <td>25.1</td>\n",
       "      <td>0.0</td>\n",
       "      <td>NaN</td>\n",
       "      <td>NaN</td>\n",
       "      <td>WNW</td>\n",
       "      <td>44.0</td>\n",
       "      <td>NNW</td>\n",
       "      <td>...</td>\n",
       "      <td>44.0</td>\n",
       "      <td>25.0</td>\n",
       "      <td>1010.6</td>\n",
       "      <td>1007.8</td>\n",
       "      <td>NaN</td>\n",
       "      <td>NaN</td>\n",
       "      <td>17.2</td>\n",
       "      <td>24.3</td>\n",
       "      <td>No</td>\n",
       "      <td>No</td>\n",
       "    </tr>\n",
       "    <tr>\n",
       "      <th>2</th>\n",
       "      <td>2008-12-03</td>\n",
       "      <td>Albury</td>\n",
       "      <td>12.9</td>\n",
       "      <td>25.7</td>\n",
       "      <td>0.0</td>\n",
       "      <td>NaN</td>\n",
       "      <td>NaN</td>\n",
       "      <td>WSW</td>\n",
       "      <td>46.0</td>\n",
       "      <td>W</td>\n",
       "      <td>...</td>\n",
       "      <td>38.0</td>\n",
       "      <td>30.0</td>\n",
       "      <td>1007.6</td>\n",
       "      <td>1008.7</td>\n",
       "      <td>NaN</td>\n",
       "      <td>2.0</td>\n",
       "      <td>21.0</td>\n",
       "      <td>23.2</td>\n",
       "      <td>No</td>\n",
       "      <td>No</td>\n",
       "    </tr>\n",
       "    <tr>\n",
       "      <th>3</th>\n",
       "      <td>2008-12-04</td>\n",
       "      <td>Albury</td>\n",
       "      <td>9.2</td>\n",
       "      <td>28.0</td>\n",
       "      <td>0.0</td>\n",
       "      <td>NaN</td>\n",
       "      <td>NaN</td>\n",
       "      <td>NE</td>\n",
       "      <td>24.0</td>\n",
       "      <td>SE</td>\n",
       "      <td>...</td>\n",
       "      <td>45.0</td>\n",
       "      <td>16.0</td>\n",
       "      <td>1017.6</td>\n",
       "      <td>1012.8</td>\n",
       "      <td>NaN</td>\n",
       "      <td>NaN</td>\n",
       "      <td>18.1</td>\n",
       "      <td>26.5</td>\n",
       "      <td>No</td>\n",
       "      <td>No</td>\n",
       "    </tr>\n",
       "    <tr>\n",
       "      <th>4</th>\n",
       "      <td>2008-12-05</td>\n",
       "      <td>Albury</td>\n",
       "      <td>17.5</td>\n",
       "      <td>32.3</td>\n",
       "      <td>1.0</td>\n",
       "      <td>NaN</td>\n",
       "      <td>NaN</td>\n",
       "      <td>W</td>\n",
       "      <td>41.0</td>\n",
       "      <td>ENE</td>\n",
       "      <td>...</td>\n",
       "      <td>82.0</td>\n",
       "      <td>33.0</td>\n",
       "      <td>1010.8</td>\n",
       "      <td>1006.0</td>\n",
       "      <td>7.0</td>\n",
       "      <td>8.0</td>\n",
       "      <td>17.8</td>\n",
       "      <td>29.7</td>\n",
       "      <td>No</td>\n",
       "      <td>No</td>\n",
       "    </tr>\n",
       "  </tbody>\n",
       "</table>\n",
       "<p>5 rows × 23 columns</p>\n",
       "</div>"
      ],
      "text/plain": [
       "         Date Location  MinTemp  MaxTemp  Rainfall  Evaporation  Sunshine  \\\n",
       "0  2008-12-01   Albury     13.4     22.9       0.6          NaN       NaN   \n",
       "1  2008-12-02   Albury      7.4     25.1       0.0          NaN       NaN   \n",
       "2  2008-12-03   Albury     12.9     25.7       0.0          NaN       NaN   \n",
       "3  2008-12-04   Albury      9.2     28.0       0.0          NaN       NaN   \n",
       "4  2008-12-05   Albury     17.5     32.3       1.0          NaN       NaN   \n",
       "\n",
       "  WindGustDir  WindGustSpeed WindDir9am  ... Humidity9am  Humidity3pm  \\\n",
       "0           W           44.0          W  ...        71.0         22.0   \n",
       "1         WNW           44.0        NNW  ...        44.0         25.0   \n",
       "2         WSW           46.0          W  ...        38.0         30.0   \n",
       "3          NE           24.0         SE  ...        45.0         16.0   \n",
       "4           W           41.0        ENE  ...        82.0         33.0   \n",
       "\n",
       "   Pressure9am  Pressure3pm  Cloud9am  Cloud3pm  Temp9am  Temp3pm  RainToday  \\\n",
       "0       1007.7       1007.1       8.0       NaN     16.9     21.8         No   \n",
       "1       1010.6       1007.8       NaN       NaN     17.2     24.3         No   \n",
       "2       1007.6       1008.7       NaN       2.0     21.0     23.2         No   \n",
       "3       1017.6       1012.8       NaN       NaN     18.1     26.5         No   \n",
       "4       1010.8       1006.0       7.0       8.0     17.8     29.7         No   \n",
       "\n",
       "   RainTomorrow  \n",
       "0            No  \n",
       "1            No  \n",
       "2            No  \n",
       "3            No  \n",
       "4            No  \n",
       "\n",
       "[5 rows x 23 columns]"
      ]
     },
     "execution_count": 2,
     "metadata": {},
     "output_type": "execute_result"
    }
   ],
   "source": [
    "# use the weather dataset of heterogenous data and plot first 5 lines\n",
    "weather = pd.read_csv('data/weatherAUS.csv')\n",
    "weather.head()"
   ]
  },
  {
   "cell_type": "code",
   "execution_count": 3,
   "metadata": {
    "pycharm": {
     "name": "#%%\n"
    }
   },
   "outputs": [
    {
     "name": "stdout",
     "output_type": "stream",
     "text": [
      "<class 'pandas.core.frame.DataFrame'>\n",
      "RangeIndex: 145460 entries, 0 to 145459\n",
      "Data columns (total 23 columns):\n",
      " #   Column         Non-Null Count   Dtype  \n",
      "---  ------         --------------   -----  \n",
      " 0   Date           145460 non-null  object \n",
      " 1   Location       145460 non-null  object \n",
      " 2   MinTemp        143975 non-null  float64\n",
      " 3   MaxTemp        144199 non-null  float64\n",
      " 4   Rainfall       142199 non-null  float64\n",
      " 5   Evaporation    82670 non-null   float64\n",
      " 6   Sunshine       75625 non-null   float64\n",
      " 7   WindGustDir    135134 non-null  object \n",
      " 8   WindGustSpeed  135197 non-null  float64\n",
      " 9   WindDir9am     134894 non-null  object \n",
      " 10  WindDir3pm     141232 non-null  object \n",
      " 11  WindSpeed9am   143693 non-null  float64\n",
      " 12  WindSpeed3pm   142398 non-null  float64\n",
      " 13  Humidity9am    142806 non-null  float64\n",
      " 14  Humidity3pm    140953 non-null  float64\n",
      " 15  Pressure9am    130395 non-null  float64\n",
      " 16  Pressure3pm    130432 non-null  float64\n",
      " 17  Cloud9am       89572 non-null   float64\n",
      " 18  Cloud3pm       86102 non-null   float64\n",
      " 19  Temp9am        143693 non-null  float64\n",
      " 20  Temp3pm        141851 non-null  float64\n",
      " 21  RainToday      142199 non-null  object \n",
      " 22  RainTomorrow   142193 non-null  object \n",
      "dtypes: float64(16), object(7)\n",
      "memory usage: 25.5+ MB\n"
     ]
    }
   ],
   "source": [
    "# overview of the created datatypes\n",
    "weather.info()"
   ]
  },
  {
   "cell_type": "markdown",
   "metadata": {
    "pycharm": {
     "name": "#%% md\n"
    }
   },
   "source": [
    "# Data Preparation - Adjust Date Values\n",
    "\n",
    "In this step, the data gets adjusted, in order to fit for our analysis.\n",
    "This adjustments go especially for the Date in the first place. Here the whole Date value gets split up into a new year month and day column, in order to better aggregate over the set."
   ]
  },
  {
   "cell_type": "code",
   "execution_count": 4,
   "metadata": {
    "pycharm": {
     "name": "#%%\n"
    }
   },
   "outputs": [],
   "source": [
    "# Convert Date to a date type and create new columns\n",
    "weather['Date_converted'] = pd.to_datetime(weather['Date'], format='%Y-%m-%d')\n",
    "weather['Year'] = weather['Date_converted'].dt.year\n",
    "weather['Month'] = weather['Date_converted'].dt.month\n",
    "weather['Day'] = weather['Date_converted'].dt.day"
   ]
  },
  {
   "cell_type": "markdown",
   "metadata": {
    "pycharm": {
     "name": "#%% md\n"
    }
   },
   "source": [
    "# Overview of missing values\n",
    "\n",
    "In order to to a proper data cleaning and having a feeling, how many values are even missing, we analysed the amount of missing data per column. It can be seen that for some columns nearly half of the values (40 - 48%) are missing (shown in the table as well as the plot above)."
   ]
  },
  {
   "cell_type": "code",
   "execution_count": 5,
   "metadata": {
    "pycharm": {
     "name": "#%%\n"
    }
   },
   "outputs": [
    {
     "data": {
      "image/png": "[encoded data removed]",
      "text/plain": [
       "<Figure size 432x288 with 1 Axes>"
      ]
     },
     "metadata": {
      "needs_background": "light"
     },
     "output_type": "display_data"
    }
   ],
   "source": [
    "# Calculate percentage of null values per attribute\n",
    "missing_in_percentage = weather.isnull().sum() * 100 / len(weather)\n",
    "missing = pd.DataFrame({'col': weather.columns, 'missing_percent': missing_in_percentage})\n",
    "missing.sort_values('missing_percent', inplace=True, ascending=False)\n",
    "\n",
    "ax = sns.barplot(x=\"col\", y=\"missing_percent\", data=missing.head(8))\n",
    "ax.set_ylim((0, 100))\n",
    "ax.set_xticklabels(ax.get_xticklabels(), rotation=300)\n",
    "ax.set_title('Percentage of missing values per DF column')\n",
    "ax.set_xlabel('DF columns')\n",
    "_ = ax.set_ylabel('Percentage of missing values')"
   ]
  },
  {
   "cell_type": "markdown",
   "metadata": {
    "pycharm": {
     "name": "#%% md\n"
    }
   },
   "source": [
    "# Base for missing values"
   ]
  },
  {
   "cell_type": "markdown",
   "metadata": {
    "pycharm": {
     "name": "#%% md\n"
    }
   },
   "source": [
    "## Missing values in different seasons\n",
    "\n",
    "Now we further investigate this issue by looking at the columns sunshine, evaporation, cloud3pm and cloud9am by grouping the percentage of missing values first by season, to look whether we can see a seasonal affect. We also group the percentage of missing values by location to see if we can spot a locational affect. But as you can also see in the table below, there is no real trend, if the values tend to be not recorded in a specific season."
   ]
  },
  {
   "cell_type": "code",
   "execution_count": 6,
   "metadata": {
    "pycharm": {
     "name": "#%%\n"
    }
   },
   "outputs": [
    {
     "data": {
      "text/html": [
       "<style type=\"text/css\">\n",
       "</style>\n",
       "<table id=\"T_4cc58\">\n",
       "  <thead>\n",
       "    <tr>\n",
       "      <th id=\"T_4cc58_level0_col0\" class=\"col_heading level0 col0\" >Sunshine</th>\n",
       "      <th id=\"T_4cc58_level0_col1\" class=\"col_heading level0 col1\" >Evaporation</th>\n",
       "      <th id=\"T_4cc58_level0_col2\" class=\"col_heading level0 col2\" >Cloud3pm</th>\n",
       "      <th id=\"T_4cc58_level0_col3\" class=\"col_heading level0 col3\" >Cloud9am</th>\n",
       "      <th id=\"T_4cc58_level0_col4\" class=\"col_heading level0 col4\" >Season</th>\n",
       "    </tr>\n",
       "  </thead>\n",
       "  <tbody>\n",
       "    <tr>\n",
       "      <td id=\"T_4cc58_row0_col0\" class=\"data row0 col0\" >47.395082</td>\n",
       "      <td id=\"T_4cc58_row0_col1\" class=\"data row0 col1\" >42.394657</td>\n",
       "      <td id=\"T_4cc58_row0_col2\" class=\"data row0 col2\" >40.996689</td>\n",
       "      <td id=\"T_4cc58_row0_col3\" class=\"data row0 col3\" >38.537510</td>\n",
       "      <td id=\"T_4cc58_row0_col4\" class=\"data row0 col4\" >Autumn</td>\n",
       "    </tr>\n",
       "    <tr>\n",
       "      <td id=\"T_4cc58_row1_col0\" class=\"data row1 col0\" >48.680222</td>\n",
       "      <td id=\"T_4cc58_row1_col1\" class=\"data row1 col1\" >43.780054</td>\n",
       "      <td id=\"T_4cc58_row1_col2\" class=\"data row1 col2\" >41.022894</td>\n",
       "      <td id=\"T_4cc58_row1_col3\" class=\"data row1 col3\" >38.830232</td>\n",
       "      <td id=\"T_4cc58_row1_col4\" class=\"data row1 col4\" >Spring</td>\n",
       "    </tr>\n",
       "    <tr>\n",
       "      <td id=\"T_4cc58_row2_col0\" class=\"data row2 col0\" >48.109535</td>\n",
       "      <td id=\"T_4cc58_row2_col1\" class=\"data row2 col1\" >42.861420</td>\n",
       "      <td id=\"T_4cc58_row2_col2\" class=\"data row2 col2\" >38.639519</td>\n",
       "      <td id=\"T_4cc58_row2_col3\" class=\"data row2 col3\" >36.793968</td>\n",
       "      <td id=\"T_4cc58_row2_col4\" class=\"data row2 col4\" >Summer</td>\n",
       "    </tr>\n",
       "    <tr>\n",
       "      <td id=\"T_4cc58_row3_col0\" class=\"data row3 col0\" >47.793406</td>\n",
       "      <td id=\"T_4cc58_row3_col1\" class=\"data row3 col1\" >43.593759</td>\n",
       "      <td id=\"T_4cc58_row3_col2\" class=\"data row3 col2\" >42.648482</td>\n",
       "      <td id=\"T_4cc58_row3_col3\" class=\"data row3 col3\" >39.562098</td>\n",
       "      <td id=\"T_4cc58_row3_col4\" class=\"data row3 col4\" >Winter</td>\n",
       "    </tr>\n",
       "  </tbody>\n",
       "</table>\n"
      ],
      "text/plain": [
       "<pandas.io.formats.style.Styler at 0x234976a71c0>"
      ]
     },
     "execution_count": 6,
     "metadata": {},
     "output_type": "execute_result"
    }
   ],
   "source": [
    "# Mapping the dates to seasons and calculate for each season and attribute the percentage of missing values.\n",
    "seasons = {\n",
    "   1: 'Winter',\n",
    "   2: 'Spring',\n",
    "   3: 'Summer',\n",
    "   4: 'Autumn'\n",
    "}\n",
    "df_values_season = weather[['Year', 'Month', 'Sunshine', 'Evaporation', 'Cloud3pm', 'Cloud9am']].copy()\n",
    "\n",
    "df_values_season['Season'] = (df_values_season['Month'] % 12 + 3) // 3\n",
    "df_values_season['Season_name'] = df_values_season['Season'].map(seasons)\n",
    "\n",
    "df_season_count_null = df_values_season[['Sunshine', 'Evaporation', 'Cloud3pm', 'Cloud9am']].isnull().groupby(df_values_season['Season_name']).sum()\n",
    "df_season_count_all = df_values_season[['Sunshine', 'Evaporation', 'Cloud3pm', 'Cloud9am']].isnull().groupby(df_values_season['Season_name']).count()\n",
    "\n",
    "df_missing_values_percent = (df_season_count_null / df_season_count_all) * 100\n",
    "df_missing_values_percent['Season'] = df_missing_values_percent.index.tolist()\n",
    "df_missing_values_percent.style.hide_index()"
   ]
  },
  {
   "cell_type": "markdown",
   "metadata": {
    "pycharm": {
     "name": "#%% md\n"
    }
   },
   "source": [
    "## Missing values in different locations\n",
    "\n",
    "As it can be seen, for 22 of the 49 locations no values are tracked which explains the large amount of missing data for the attributes 'Sunshine', 'Evaporation', 'Cloud3pm' and 'Cloud9am'. The reason for this is, however, unknown."
   ]
  },
  {
   "cell_type": "code",
   "execution_count": 7,
   "metadata": {
    "pycharm": {
     "name": "#%%\n"
    },
    "scrolled": true
   },
   "outputs": [
    {
     "name": "stdout",
     "output_type": "stream",
     "text": [
      "Untracked values based on location: 22 of 49\n"
     ]
    }
   ],
   "source": [
    "df_values_location = weather[['Location', 'Sunshine', 'Evaporation', 'Cloud3pm', 'Cloud9am']]\n",
    "df_values_location_count_null = weather[['Sunshine', 'Evaporation', 'Cloud3pm', 'Cloud9am']].isnull().groupby(weather['Location']).sum()\n",
    "# fillna is needed in order to get the \n",
    "df_values_location_count_all = weather[['Sunshine', 'Evaporation', 'Cloud3pm', 'Cloud9am']].isnull().groupby(weather['Location']).count()\n",
    "\n",
    "df_missing_values_percent = (df_values_location_count_null / df_values_location_count_all) * 100\n",
    "df_missing_values_percent['Location'] = df_missing_values_percent.index.tolist()\n",
    "mask = (df_missing_values_percent == 100.).any(axis=1)\n",
    "print(f'Untracked values based on location: {df_missing_values_percent[mask].shape[0]} of {df_missing_values_percent.shape[0]}')"
   ]
  },
  {
   "cell_type": "markdown",
   "metadata": {
    "pycharm": {
     "name": "#%% md\n"
    }
   },
   "source": [
    "# Remove missing values\n",
    "\n",
    "Since we can not clearly 'clean' missing values in any case, because we dont have information about the geo coordinates and also no mapping of close location, we simply drop these values. Still - 112925 samples are present "
   ]
  },
  {
   "cell_type": "code",
   "execution_count": 8,
   "metadata": {
    "pycharm": {
     "name": "#%%\n"
    }
   },
   "outputs": [],
   "source": [
    "weather.drop(['Date','Sunshine', 'Evaporation', 'Cloud3pm', 'Cloud9am'],axis=1,inplace=True)"
   ]
  },
  {
   "cell_type": "markdown",
   "metadata": {
    "pycharm": {
     "name": "#%% md\n"
    }
   },
   "source": [
    "## Create artifical data for missing values in numeric attribute vectors when possible\n",
    "\n",
    "For numeric data we set missing values for numeric attributes (given in the numerical_columns value) to the median based on the year, month and (location) when possible\n",
    "\n",
    "For the categorical values we used the mode, imputation is based on location and current month, if we do not have data for a location than only the month was used."
   ]
  },
  {
   "cell_type": "code",
   "execution_count": 9,
   "metadata": {
    "pycharm": {
     "name": "#%%\n"
    }
   },
   "outputs": [],
   "source": [
    "numerical_columns = [\"Pressure9am\", \"Pressure3pm\", \"Humidity3pm\", \"Humidity9am\", \"WindGustSpeed\", \"Temp3pm\",\n",
    "                     \"WindSpeed3pm\", \"WindSpeed9am\", \"Temp9am\", \"MinTemp\", \"MaxTemp\", \"Rainfall\"]\n",
    "\n",
    "for col in numerical_columns:\n",
    "    weather[col] = weather[col].fillna(weather.groupby(['Year', 'Month', 'Location'])[col].transform(\"mean\"))\n",
    "    weather[col] = weather[col].fillna(weather.groupby(['Year', 'Month'])[col].transform(\"mean\"))\n",
    "\n",
    "categorical_columns = [\"WindDir9am\", \"WindGustDir\", \"WindDir3pm\"]\n",
    "\n",
    "for col in categorical_columns:\n",
    "    weather[col] = weather[col].fillna(weather.groupby(['Year', 'Month', 'Location'])[col].transform(statistics.mode))\n",
    "    weather[col] = weather[col].fillna(weather.groupby(['Year', 'Month'])[col].transform(statistics.mode))"
   ]
  },
  {
   "cell_type": "code",
   "execution_count": 10,
   "metadata": {
    "pycharm": {
     "name": "#%%\n"
    }
   },
   "outputs": [
    {
     "name": "stdout",
     "output_type": "stream",
     "text": [
      "Amount of samples without missing values in any column: 140787\n"
     ]
    },
    {
     "data": {
      "text/html": [
       "<div>\n",
       "<style scoped>\n",
       "    .dataframe tbody tr th:only-of-type {\n",
       "        vertical-align: middle;\n",
       "    }\n",
       "\n",
       "    .dataframe tbody tr th {\n",
       "        vertical-align: top;\n",
       "    }\n",
       "\n",
       "    .dataframe thead th {\n",
       "        text-align: right;\n",
       "    }\n",
       "</style>\n",
       "<table border=\"1\" class=\"dataframe\">\n",
       "  <thead>\n",
       "    <tr style=\"text-align: right;\">\n",
       "      <th></th>\n",
       "      <th>Location</th>\n",
       "      <th>MinTemp</th>\n",
       "      <th>MaxTemp</th>\n",
       "      <th>Rainfall</th>\n",
       "      <th>WindGustDir</th>\n",
       "      <th>WindGustSpeed</th>\n",
       "      <th>WindDir9am</th>\n",
       "      <th>WindDir3pm</th>\n",
       "      <th>WindSpeed9am</th>\n",
       "      <th>WindSpeed3pm</th>\n",
       "      <th>...</th>\n",
       "      <th>Pressure9am</th>\n",
       "      <th>Pressure3pm</th>\n",
       "      <th>Temp9am</th>\n",
       "      <th>Temp3pm</th>\n",
       "      <th>RainToday</th>\n",
       "      <th>RainTomorrow</th>\n",
       "      <th>Date_converted</th>\n",
       "      <th>Year</th>\n",
       "      <th>Month</th>\n",
       "      <th>Day</th>\n",
       "    </tr>\n",
       "  </thead>\n",
       "  <tbody>\n",
       "    <tr>\n",
       "      <th>0</th>\n",
       "      <td>Albury</td>\n",
       "      <td>13.4</td>\n",
       "      <td>22.9</td>\n",
       "      <td>0.6</td>\n",
       "      <td>W</td>\n",
       "      <td>44.0</td>\n",
       "      <td>W</td>\n",
       "      <td>WNW</td>\n",
       "      <td>20.0</td>\n",
       "      <td>24.0</td>\n",
       "      <td>...</td>\n",
       "      <td>1007.7</td>\n",
       "      <td>1007.1</td>\n",
       "      <td>16.9</td>\n",
       "      <td>21.8</td>\n",
       "      <td>No</td>\n",
       "      <td>No</td>\n",
       "      <td>2008-12-01</td>\n",
       "      <td>2008</td>\n",
       "      <td>12</td>\n",
       "      <td>1</td>\n",
       "    </tr>\n",
       "    <tr>\n",
       "      <th>1</th>\n",
       "      <td>Albury</td>\n",
       "      <td>7.4</td>\n",
       "      <td>25.1</td>\n",
       "      <td>0.0</td>\n",
       "      <td>WNW</td>\n",
       "      <td>44.0</td>\n",
       "      <td>NNW</td>\n",
       "      <td>WSW</td>\n",
       "      <td>4.0</td>\n",
       "      <td>22.0</td>\n",
       "      <td>...</td>\n",
       "      <td>1010.6</td>\n",
       "      <td>1007.8</td>\n",
       "      <td>17.2</td>\n",
       "      <td>24.3</td>\n",
       "      <td>No</td>\n",
       "      <td>No</td>\n",
       "      <td>2008-12-02</td>\n",
       "      <td>2008</td>\n",
       "      <td>12</td>\n",
       "      <td>2</td>\n",
       "    </tr>\n",
       "    <tr>\n",
       "      <th>2</th>\n",
       "      <td>Albury</td>\n",
       "      <td>12.9</td>\n",
       "      <td>25.7</td>\n",
       "      <td>0.0</td>\n",
       "      <td>WSW</td>\n",
       "      <td>46.0</td>\n",
       "      <td>W</td>\n",
       "      <td>WSW</td>\n",
       "      <td>19.0</td>\n",
       "      <td>26.0</td>\n",
       "      <td>...</td>\n",
       "      <td>1007.6</td>\n",
       "      <td>1008.7</td>\n",
       "      <td>21.0</td>\n",
       "      <td>23.2</td>\n",
       "      <td>No</td>\n",
       "      <td>No</td>\n",
       "      <td>2008-12-03</td>\n",
       "      <td>2008</td>\n",
       "      <td>12</td>\n",
       "      <td>3</td>\n",
       "    </tr>\n",
       "    <tr>\n",
       "      <th>3</th>\n",
       "      <td>Albury</td>\n",
       "      <td>9.2</td>\n",
       "      <td>28.0</td>\n",
       "      <td>0.0</td>\n",
       "      <td>NE</td>\n",
       "      <td>24.0</td>\n",
       "      <td>SE</td>\n",
       "      <td>E</td>\n",
       "      <td>11.0</td>\n",
       "      <td>9.0</td>\n",
       "      <td>...</td>\n",
       "      <td>1017.6</td>\n",
       "      <td>1012.8</td>\n",
       "      <td>18.1</td>\n",
       "      <td>26.5</td>\n",
       "      <td>No</td>\n",
       "      <td>No</td>\n",
       "      <td>2008-12-04</td>\n",
       "      <td>2008</td>\n",
       "      <td>12</td>\n",
       "      <td>4</td>\n",
       "    </tr>\n",
       "    <tr>\n",
       "      <th>4</th>\n",
       "      <td>Albury</td>\n",
       "      <td>17.5</td>\n",
       "      <td>32.3</td>\n",
       "      <td>1.0</td>\n",
       "      <td>W</td>\n",
       "      <td>41.0</td>\n",
       "      <td>ENE</td>\n",
       "      <td>NW</td>\n",
       "      <td>7.0</td>\n",
       "      <td>20.0</td>\n",
       "      <td>...</td>\n",
       "      <td>1010.8</td>\n",
       "      <td>1006.0</td>\n",
       "      <td>17.8</td>\n",
       "      <td>29.7</td>\n",
       "      <td>No</td>\n",
       "      <td>No</td>\n",
       "      <td>2008-12-05</td>\n",
       "      <td>2008</td>\n",
       "      <td>12</td>\n",
       "      <td>5</td>\n",
       "    </tr>\n",
       "  </tbody>\n",
       "</table>\n",
       "<p>5 rows × 22 columns</p>\n",
       "</div>"
      ],
      "text/plain": [
       "  Location  MinTemp  MaxTemp  Rainfall WindGustDir  WindGustSpeed WindDir9am  \\\n",
       "0   Albury     13.4     22.9       0.6           W           44.0          W   \n",
       "1   Albury      7.4     25.1       0.0         WNW           44.0        NNW   \n",
       "2   Albury     12.9     25.7       0.0         WSW           46.0          W   \n",
       "3   Albury      9.2     28.0       0.0          NE           24.0         SE   \n",
       "4   Albury     17.5     32.3       1.0           W           41.0        ENE   \n",
       "\n",
       "  WindDir3pm  WindSpeed9am  WindSpeed3pm  ...  Pressure9am  Pressure3pm  \\\n",
       "0        WNW          20.0          24.0  ...       1007.7       1007.1   \n",
       "1        WSW           4.0          22.0  ...       1010.6       1007.8   \n",
       "2        WSW          19.0          26.0  ...       1007.6       1008.7   \n",
       "3          E          11.0           9.0  ...       1017.6       1012.8   \n",
       "4         NW           7.0          20.0  ...       1010.8       1006.0   \n",
       "\n",
       "   Temp9am  Temp3pm  RainToday  RainTomorrow Date_converted  Year Month  Day  \n",
       "0     16.9     21.8         No            No     2008-12-01  2008    12    1  \n",
       "1     17.2     24.3         No            No     2008-12-02  2008    12    2  \n",
       "2     21.0     23.2         No            No     2008-12-03  2008    12    3  \n",
       "3     18.1     26.5         No            No     2008-12-04  2008    12    4  \n",
       "4     17.8     29.7         No            No     2008-12-05  2008    12    5  \n",
       "\n",
       "[5 rows x 22 columns]"
      ]
     },
     "execution_count": 10,
     "metadata": {},
     "output_type": "execute_result"
    }
   ],
   "source": [
    "weather.dropna(inplace=True)\n",
    "print(f'Amount of samples without missing values in any column: {weather.shape[0]}')\n",
    "weather.head()"
   ]
  },
  {
   "cell_type": "markdown",
   "metadata": {
    "pycharm": {
     "name": "#%% md\n"
    }
   },
   "source": [
    "# Check for valid values in all remaining (numeric) columns\n",
    "\n",
    "In the next step, # check for minimum and maximum values in numeric attributes (in our case all attributes in the frame which have the datatype of float64. Here no out of range values could be detected. "
   ]
  },
  {
   "cell_type": "code",
   "execution_count": 11,
   "metadata": {
    "pycharm": {
     "name": "#%%\n"
    }
   },
   "outputs": [
    {
     "name": "stdout",
     "output_type": "stream",
     "text": [
      "Attribute MinTemp:\n",
      "Min: -8.50, Q1: 7.60, Median 12.00, Q3: 16.80, Max: 33.90\n"
     ]
    },
    {
     "data": {
      "image/png": "[encoded data removed]",
      "text/plain": [
       "<Figure size 432x288 with 1 Axes>"
      ]
     },
     "metadata": {
      "needs_background": "light"
     },
     "output_type": "display_data"
    },
    {
     "name": "stdout",
     "output_type": "stream",
     "text": [
      "Attribute MaxTemp:\n",
      "Min: -4.80, Q1: 17.90, Median 22.60, Q3: 28.20, Max: 48.10\n"
     ]
    },
    {
     "data": {
      "image/png": "[encoded data removed]",
      "text/plain": [
       "<Figure size 432x288 with 1 Axes>"
      ]
     },
     "metadata": {
      "needs_background": "light"
     },
     "output_type": "display_data"
    },
    {
     "name": "stdout",
     "output_type": "stream",
     "text": [
      "Attribute Rainfall:\n",
      "Min: 0.00, Q1: 0.00, Median 0.00, Q3: 0.80, Max: 371.00\n"
     ]
    },
    {
     "data": {
      "image/png": "[encoded data removed]",
      "text/plain": [
       "<Figure size 432x288 with 1 Axes>"
      ]
     },
     "metadata": {
      "needs_background": "light"
     },
     "output_type": "display_data"
    },
    {
     "name": "stdout",
     "output_type": "stream",
     "text": [
      "Attribute WindGustSpeed:\n",
      "Min: 6.00, Q1: 31.00, Median 39.00, Q3: 46.00, Max: 135.00\n"
     ]
    },
    {
     "data": {
      "image/png": "[encoded data removed]",
      "text/plain": [
       "<Figure size 432x288 with 1 Axes>"
      ]
     },
     "metadata": {
      "needs_background": "light"
     },
     "output_type": "display_data"
    },
    {
     "name": "stdout",
     "output_type": "stream",
     "text": [
      "Attribute WindSpeed9am:\n",
      "Min: 0.00, Q1: 7.00, Median 13.00, Q3: 19.00, Max: 130.00\n"
     ]
    },
    {
     "data": {
      "image/png": "[encoded data removed]",
      "text/plain": [
       "<Figure size 432x288 with 1 Axes>"
      ]
     },
     "metadata": {
      "needs_background": "light"
     },
     "output_type": "display_data"
    },
    {
     "name": "stdout",
     "output_type": "stream",
     "text": [
      "Attribute WindSpeed3pm:\n",
      "Min: 0.00, Q1: 13.00, Median 19.00, Q3: 24.00, Max: 87.00\n"
     ]
    },
    {
     "data": {
      "image/png": "[encoded data removed]",
      "text/plain": [
       "<Figure size 432x288 with 1 Axes>"
      ]
     },
     "metadata": {
      "needs_background": "light"
     },
     "output_type": "display_data"
    },
    {
     "name": "stdout",
     "output_type": "stream",
     "text": [
      "Attribute Humidity9am:\n",
      "Min: 0.00, Q1: 57.00, Median 70.00, Q3: 83.00, Max: 100.00\n"
     ]
    },
    {
     "data": {
      "image/png": "[encoded data removed]",
      "text/plain": [
       "<Figure size 432x288 with 1 Axes>"
      ]
     },
     "metadata": {
      "needs_background": "light"
     },
     "output_type": "display_data"
    },
    {
     "name": "stdout",
     "output_type": "stream",
     "text": [
      "Attribute Humidity3pm:\n",
      "Min: 0.00, Q1: 37.00, Median 52.00, Q3: 65.00, Max: 100.00\n"
     ]
    },
    {
     "data": {
      "image/png": "[encoded data removed]",
      "text/plain": [
       "<Figure size 432x288 with 1 Axes>"
      ]
     },
     "metadata": {
      "needs_background": "light"
     },
     "output_type": "display_data"
    },
    {
     "name": "stdout",
     "output_type": "stream",
     "text": [
      "Attribute Pressure9am:\n",
      "Min: 980.50, Q1: 1013.30, Median 1017.60, Q3: 1022.10, Max: 1041.00\n"
     ]
    },
    {
     "data": {
      "image/png": "[encoded data removed]",
      "text/plain": [
       "<Figure size 432x288 with 1 Axes>"
      ]
     },
     "metadata": {
      "needs_background": "light"
     },
     "output_type": "display_data"
    },
    {
     "name": "stdout",
     "output_type": "stream",
     "text": [
      "Attribute Pressure3pm:\n",
      "Min: 977.10, Q1: 1010.80, Median 1015.20, Q3: 1019.68, Max: 1039.60\n"
     ]
    },
    {
     "data": {
      "image/png": "[encoded data removed]",
      "text/plain": [
       "<Figure size 432x288 with 1 Axes>"
      ]
     },
     "metadata": {
      "needs_background": "light"
     },
     "output_type": "display_data"
    },
    {
     "name": "stdout",
     "output_type": "stream",
     "text": [
      "Attribute Temp9am:\n",
      "Min: -7.20, Q1: 12.20, Median 16.70, Q3: 21.60, Max: 40.20\n"
     ]
    },
    {
     "data": {
      "image/png": "[encoded data removed]",
      "text/plain": [
       "<Figure size 432x288 with 1 Axes>"
      ]
     },
     "metadata": {
      "needs_background": "light"
     },
     "output_type": "display_data"
    },
    {
     "name": "stdout",
     "output_type": "stream",
     "text": [
      "Attribute Temp3pm:\n",
      "Min: -5.40, Q1: 16.60, Median 21.10, Q3: 26.40, Max: 46.70\n"
     ]
    },
    {
     "data": {
      "image/png": "[encoded data removed]",
      "text/plain": [
       "<Figure size 432x288 with 1 Axes>"
      ]
     },
     "metadata": {
      "needs_background": "light"
     },
     "output_type": "display_data"
    }
   ],
   "source": [
    "# check for minimum and maximum values in numeric attributes:\n",
    "for col in weather.loc[:, weather.dtypes == 'float64']:\n",
    "    print(f'Attribute {col}:')\n",
    "    print(\"Min: {:.2f}, Q1: {:.2f}, Median {:.2f}, Q3: {:.2f}, Max: {:.2f}\".format(weather[col].min(),weather[col].quantile(.25),weather[col].median(),weather[col].quantile(.75), weather[col].max()))\n",
    "    sns.boxplot(x=weather[col])\n",
    "    plt.title(f'Boxplot of Attribute {col}')\n",
    "    plt.show()"
   ]
  },
  {
   "cell_type": "markdown",
   "metadata": {
    "pycharm": {
     "name": "#%% md\n"
    }
   },
   "source": [
    "# Check the distribution of RainTomorrow samples\n",
    "\n",
    "As we can clearly see in the next cell, there are a lot more samples of NOT-raining tomorrow, as samples WITH raining tomorrow"
   ]
  },
  {
   "cell_type": "code",
   "execution_count": 12,
   "metadata": {
    "pycharm": {
     "name": "#%%\n"
    }
   },
   "outputs": [
    {
     "data": {
      "image/png": "[encoded data removed]",
      "text/plain": [
       "<Figure size 720x360 with 1 Axes>"
      ]
     },
     "metadata": {
      "needs_background": "light"
     },
     "output_type": "display_data"
    }
   ],
   "source": [
    "plt.figure(figsize=(10,5))\n",
    "sns.countplot(x=\"RainTomorrow\", data=weather);\n",
    "plt.title('Original Data distribution')\n",
    "plt.show()"
   ]
  },
  {
   "cell_type": "code",
   "execution_count": 13,
   "metadata": {
    "pycharm": {
     "name": "#%%\n"
    }
   },
   "outputs": [],
   "source": [
    "# Disproportionate sampling:\n",
    "# randomly select 4 samples from each stratum\n",
    "stratified = weather.groupby('RainTomorrow', group_keys=False).apply(lambda x: x.sample(31000))"
   ]
  },
  {
   "cell_type": "code",
   "execution_count": 14,
   "metadata": {
    "pycharm": {
     "name": "#%%\n"
    }
   },
   "outputs": [
    {
     "data": {
      "image/png": "[encoded data removed]",
      "text/plain": [
       "<Figure size 720x360 with 1 Axes>"
      ]
     },
     "metadata": {
      "needs_background": "light"
     },
     "output_type": "display_data"
    }
   ],
   "source": [
    "plt.figure(figsize=(10,5))\n",
    "sns.countplot(x=\"RainTomorrow\", data=stratified)\n",
    "plt.title(\"Stratified Data (equal bins)\")\n",
    "plt.show()"
   ]
  },
  {
   "cell_type": "markdown",
   "metadata": {
    "pycharm": {
     "name": "#%% md\n"
    }
   },
   "source": [
    "# PCA to explore the underlying structure of the data"
   ]
  },
  {
   "cell_type": "code",
   "execution_count": 15,
   "metadata": {
    "pycharm": {
     "name": "#%%\n"
    }
   },
   "outputs": [],
   "source": [
    "stratified.drop('Date_converted',axis=1,inplace=True)\n",
    "for col in stratified.loc[:, stratified.dtypes == object]:\n",
    "    # creating instance of labelencoder\n",
    "    labelencoder = LabelEncoder()\n",
    "    # Assigning numerical values and storing in another column\n",
    "    stratified[f'{col}_num'] = labelencoder.fit_transform(stratified[col])\n",
    "    # drop non-numeric column\n",
    "    stratified.drop(col,axis=1,inplace=True)"
   ]
  },
  {
   "cell_type": "code",
   "execution_count": 16,
   "metadata": {
    "pycharm": {
     "name": "#%%\n"
    }
   },
   "outputs": [
    {
     "data": {
      "text/html": [
       "<div>\n",
       "<style scoped>\n",
       "    .dataframe tbody tr th:only-of-type {\n",
       "        vertical-align: middle;\n",
       "    }\n",
       "\n",
       "    .dataframe tbody tr th {\n",
       "        vertical-align: top;\n",
       "    }\n",
       "\n",
       "    .dataframe thead th {\n",
       "        text-align: right;\n",
       "    }\n",
       "</style>\n",
       "<table border=\"1\" class=\"dataframe\">\n",
       "  <thead>\n",
       "    <tr style=\"text-align: right;\">\n",
       "      <th></th>\n",
       "      <th>MinTemp</th>\n",
       "      <th>MaxTemp</th>\n",
       "      <th>Rainfall</th>\n",
       "      <th>WindGustSpeed</th>\n",
       "      <th>WindSpeed9am</th>\n",
       "      <th>WindSpeed3pm</th>\n",
       "      <th>Humidity9am</th>\n",
       "      <th>Humidity3pm</th>\n",
       "      <th>Pressure9am</th>\n",
       "      <th>Pressure3pm</th>\n",
       "      <th>...</th>\n",
       "      <th>Temp3pm</th>\n",
       "      <th>Year</th>\n",
       "      <th>Month</th>\n",
       "      <th>Day</th>\n",
       "      <th>Location_num</th>\n",
       "      <th>WindGustDir_num</th>\n",
       "      <th>WindDir9am_num</th>\n",
       "      <th>WindDir3pm_num</th>\n",
       "      <th>RainToday_num</th>\n",
       "      <th>RainTomorrow_num</th>\n",
       "    </tr>\n",
       "  </thead>\n",
       "  <tbody>\n",
       "    <tr>\n",
       "      <th>121386</th>\n",
       "      <td>7.3</td>\n",
       "      <td>17.1</td>\n",
       "      <td>0.0</td>\n",
       "      <td>19.0</td>\n",
       "      <td>0.0</td>\n",
       "      <td>9.0</td>\n",
       "      <td>92.0</td>\n",
       "      <td>53.0</td>\n",
       "      <td>1031.3</td>\n",
       "      <td>1028.2</td>\n",
       "      <td>...</td>\n",
       "      <td>16.8</td>\n",
       "      <td>2010</td>\n",
       "      <td>7</td>\n",
       "      <td>19</td>\n",
       "      <td>31</td>\n",
       "      <td>11</td>\n",
       "      <td>4</td>\n",
       "      <td>8</td>\n",
       "      <td>0</td>\n",
       "      <td>0</td>\n",
       "    </tr>\n",
       "    <tr>\n",
       "      <th>89941</th>\n",
       "      <td>20.0</td>\n",
       "      <td>28.0</td>\n",
       "      <td>0.8</td>\n",
       "      <td>39.0</td>\n",
       "      <td>20.0</td>\n",
       "      <td>26.0</td>\n",
       "      <td>76.0</td>\n",
       "      <td>56.0</td>\n",
       "      <td>1021.0</td>\n",
       "      <td>1016.5</td>\n",
       "      <td>...</td>\n",
       "      <td>27.3</td>\n",
       "      <td>2016</td>\n",
       "      <td>8</td>\n",
       "      <td>31</td>\n",
       "      <td>8</td>\n",
       "      <td>2</td>\n",
       "      <td>0</td>\n",
       "      <td>2</td>\n",
       "      <td>0</td>\n",
       "      <td>0</td>\n",
       "    </tr>\n",
       "    <tr>\n",
       "      <th>29675</th>\n",
       "      <td>16.7</td>\n",
       "      <td>30.3</td>\n",
       "      <td>0.0</td>\n",
       "      <td>30.0</td>\n",
       "      <td>6.0</td>\n",
       "      <td>9.0</td>\n",
       "      <td>81.0</td>\n",
       "      <td>51.0</td>\n",
       "      <td>1015.7</td>\n",
       "      <td>1012.9</td>\n",
       "      <td>...</td>\n",
       "      <td>28.9</td>\n",
       "      <td>2016</td>\n",
       "      <td>2</td>\n",
       "      <td>11</td>\n",
       "      <td>34</td>\n",
       "      <td>0</td>\n",
       "      <td>10</td>\n",
       "      <td>2</td>\n",
       "      <td>0</td>\n",
       "      <td>0</td>\n",
       "    </tr>\n",
       "    <tr>\n",
       "      <th>63870</th>\n",
       "      <td>0.2</td>\n",
       "      <td>19.6</td>\n",
       "      <td>0.0</td>\n",
       "      <td>35.0</td>\n",
       "      <td>6.0</td>\n",
       "      <td>11.0</td>\n",
       "      <td>99.0</td>\n",
       "      <td>59.0</td>\n",
       "      <td>1016.3</td>\n",
       "      <td>1010.4</td>\n",
       "      <td>...</td>\n",
       "      <td>15.8</td>\n",
       "      <td>2016</td>\n",
       "      <td>8</td>\n",
       "      <td>9</td>\n",
       "      <td>35</td>\n",
       "      <td>5</td>\n",
       "      <td>14</td>\n",
       "      <td>4</td>\n",
       "      <td>0</td>\n",
       "      <td>0</td>\n",
       "    </tr>\n",
       "    <tr>\n",
       "      <th>20226</th>\n",
       "      <td>21.1</td>\n",
       "      <td>26.7</td>\n",
       "      <td>0.0</td>\n",
       "      <td>39.0</td>\n",
       "      <td>11.0</td>\n",
       "      <td>26.0</td>\n",
       "      <td>56.0</td>\n",
       "      <td>70.0</td>\n",
       "      <td>1003.9</td>\n",
       "      <td>1004.2</td>\n",
       "      <td>...</td>\n",
       "      <td>25.9</td>\n",
       "      <td>2015</td>\n",
       "      <td>1</td>\n",
       "      <td>15</td>\n",
       "      <td>26</td>\n",
       "      <td>8</td>\n",
       "      <td>12</td>\n",
       "      <td>10</td>\n",
       "      <td>0</td>\n",
       "      <td>0</td>\n",
       "    </tr>\n",
       "  </tbody>\n",
       "</table>\n",
       "<p>5 rows × 21 columns</p>\n",
       "</div>"
      ],
      "text/plain": [
       "        MinTemp  MaxTemp  Rainfall  WindGustSpeed  WindSpeed9am  WindSpeed3pm  \\\n",
       "121386      7.3     17.1       0.0           19.0           0.0           9.0   \n",
       "89941      20.0     28.0       0.8           39.0          20.0          26.0   \n",
       "29675      16.7     30.3       0.0           30.0           6.0           9.0   \n",
       "63870       0.2     19.6       0.0           35.0           6.0          11.0   \n",
       "20226      21.1     26.7       0.0           39.0          11.0          26.0   \n",
       "\n",
       "        Humidity9am  Humidity3pm  Pressure9am  Pressure3pm  ...  Temp3pm  \\\n",
       "121386         92.0         53.0       1031.3       1028.2  ...     16.8   \n",
       "89941          76.0         56.0       1021.0       1016.5  ...     27.3   \n",
       "29675          81.0         51.0       1015.7       1012.9  ...     28.9   \n",
       "63870          99.0         59.0       1016.3       1010.4  ...     15.8   \n",
       "20226          56.0         70.0       1003.9       1004.2  ...     25.9   \n",
       "\n",
       "        Year  Month  Day  Location_num  WindGustDir_num  WindDir9am_num  \\\n",
       "121386  2010      7   19            31               11               4   \n",
       "89941   2016      8   31             8                2               0   \n",
       "29675   2016      2   11            34                0              10   \n",
       "63870   2016      8    9            35                5              14   \n",
       "20226   2015      1   15            26                8              12   \n",
       "\n",
       "        WindDir3pm_num  RainToday_num  RainTomorrow_num  \n",
       "121386               8              0                 0  \n",
       "89941                2              0                 0  \n",
       "29675                2              0                 0  \n",
       "63870                4              0                 0  \n",
       "20226               10              0                 0  \n",
       "\n",
       "[5 rows x 21 columns]"
      ]
     },
     "execution_count": 16,
     "metadata": {},
     "output_type": "execute_result"
    }
   ],
   "source": [
    "stratified.head()"
   ]
  },
  {
   "cell_type": "code",
   "execution_count": 17,
   "metadata": {
    "pycharm": {
     "name": "#%%\n"
    }
   },
   "outputs": [],
   "source": [
    "n_components = 7\n",
    "\n",
    "pca = decomposition.PCA(n_components=n_components)\n",
    "pca_pos = pca.fit_transform(stratified)\n",
    "\n",
    "stratified['pca1']= pca_pos[:, 0]\n",
    "stratified['pca2']= pca_pos[:, 1]"
   ]
  },
  {
   "cell_type": "code",
   "execution_count": 18,
   "metadata": {
    "pycharm": {
     "name": "#%%\n"
    }
   },
   "outputs": [
    {
     "data": {
      "image/png": "[encoded data removed]",
      "text/plain": [
       "<Figure size 432x432 with 1 Axes>"
      ]
     },
     "metadata": {
      "needs_background": "light"
     },
     "output_type": "display_data"
    }
   ],
   "source": [
    "plt.figure(figsize=(6,6))\n",
    "reducedPoints = stratified.groupby('RainTomorrow_num', group_keys=False).apply(lambda x: x.sample(2500))\n",
    "sns.scatterplot(data=reducedPoints, x=\"pca1\", y=\"pca2\", hue=\"RainTomorrow_num\",alpha=0.3)\n",
    "plt.title('PCA on the weather dataset, colored by RainTomorrow')\n",
    "plt.show()"
   ]
  },
  {
   "cell_type": "markdown",
   "metadata": {
    "pycharm": {
     "name": "#%% md\n"
    }
   },
   "source": [
    "# Decision Tree\n",
    "\n",
    "In this section, we try to fit a Decision Tree classifier to our data. Therefore we do a GridSearch, where we try different criterions, maximum depths of the tree and splitting methods. The trained classifier also gets evaluated on 15% of the total data afterwards.\n",
    "\n",
    "To keep the dataset clean, we removed all additional added attributes, we used in the previous section due to have more comfort. This does not change the actual data at all.\n",
    "\n",
    "Note, that the data is also stratified like in the PCA above, so all classes are evenly distributed (standard would be to have a much higher amount of samples in the RainTomorrow=No comapred to RainTomorrow=Yes)\n",
    "\n",
    "After creating the training and test sets, training and evaluating using a confusion matrix and accuracy as a score, we also provided an overview of the feature importance learned by the decision tree."
   ]
  },
  {
   "cell_type": "code",
   "execution_count": 19,
   "metadata": {
    "pycharm": {
     "name": "#%%\n"
    }
   },
   "outputs": [],
   "source": [
    "\"\"\"\n",
    "Evaluates the model and returns accuracy as well as a confusion matrix. Also the time for prediction can is calculated.\n",
    "@param model, sklearn model,trained model\n",
    "@param x_test, np ndarray, data matrix\n",
    "@param y_test, np ndarray, data vector\n",
    "\"\"\"\n",
    "def get_evaluation(model, x_test, y_test):\n",
    "    y_pred = model.predict(x_test)\n",
    "    accuracy = accuracy_score(y_test, y_pred)\n",
    "    conf_mat = confusion_matrix(y_test, y_pred)\n",
    "    rec_result = recall_score(y_test, y_pred, average=None, labels=[0,1])\n",
    "    prec_result = precision_score(y_test, y_pred, average=None, labels=[0,1])\n",
    "    \n",
    "\n",
    "    print('\\nAccuracy of Classifier on Test Image Data: ', accuracy)\n",
    "    print()\n",
    "    print('Recall (No Rain Tomorrow) of Classifier on Test Image Data: ', rec_result[0])\n",
    "    print('Recall (Rain Tomorrow) of Classifier on Test Image Data: ', rec_result[1])\n",
    "    print()\n",
    "    print('Precision (No Rain Tomorrow) of Classifier on Test Image Data: ', prec_result[0])\n",
    "    print('Precision (Rain Tomorrow) of Classifier on Test Image Data: ', prec_result[1])\n",
    "    print()\n",
    "    print('\\nConfusion Matrix: \\n', conf_mat)\n",
    "\n",
    "    plt.matshow(conf_mat)\n",
    "    plt.title('Confusion Matrix')\n",
    "    plt.colorbar()\n",
    "    plt.ylabel('True label')\n",
    "    plt.xlabel('Predicted label')\n",
    "    return None"
   ]
  },
  {
   "cell_type": "code",
   "execution_count": 20,
   "metadata": {},
   "outputs": [],
   "source": [
    "def get_ROC(model, x_test, y_test):\n",
    "    \"\"\"\n",
    "    Calculates AUC score and plots ROC curve\n",
    "    @param model, sklearn model,trained model\n",
    "    @param x_test, np ndarray, data matrix\n",
    "    @param y_test, np ndarray, data vector\n",
    "    \"\"\"\n",
    "    predictions = model.predict_proba(x_test)\n",
    "\n",
    "    print('AUC score:')\n",
    "    print(roc_auc_score(y_test, predictions[:,1]))\n",
    "\n",
    "    fpr, tpr, _ = roc_curve(y_test, predictions[:,1])\n",
    "\n",
    "    plt.clf()\n",
    "    plt.plot(fpr, tpr)\n",
    "    plt.xlabel('FPR')\n",
    "    plt.ylabel('TPR')\n",
    "    plt.title('ROC curve with AUC: {:.3f}'.format(roc_auc_score(y_test, predictions[:,1])))\n",
    "    plt.show()"
   ]
  },
  {
   "cell_type": "code",
   "execution_count": 21,
   "metadata": {
    "pycharm": {
     "name": "#%%\n"
    }
   },
   "outputs": [],
   "source": [
    "param_grid = {\n",
    "    'criterion': ['gini','entropy'],\n",
    "    'max_depth': range(1,20),\n",
    "    'splitter': ['random', 'best']\n",
    "}\n",
    "\n",
    "\"\"\"\n",
    "Trains a random forest using cross-validation and returns certain attributes of the received model including the best\n",
    "parameter combination.\n",
    "@param x_train, np ndarray, data matrix\n",
    "@param y_train, np ndarray, data vector\n",
    "@param param_grid, dict, grid holding the paramaters for search\n",
    "\"\"\"\n",
    "def train_dec_tree(x_train,y_train,param_grid):\n",
    "    tree = DecisionTreeClassifier(random_state=55)\n",
    "    model = GridSearchCV(tree,param_grid=param_grid,n_jobs = -1)\n",
    "    model.fit(x_train,y_train)\n",
    "    return model.best_params_,model.best_estimator_"
   ]
  },
  {
   "cell_type": "code",
   "execution_count": 22,
   "metadata": {
    "pycharm": {
     "name": "#%%\n"
    }
   },
   "outputs": [
    {
     "name": "stdout",
     "output_type": "stream",
     "text": [
      "shape of data matrix: (62000, 20)\n",
      "shape of train matrix: (49600, 20)\n",
      "shape of test matrix: (12400, 20)\n"
     ]
    },
    {
     "data": {
      "text/html": [
       "<div>\n",
       "<style scoped>\n",
       "    .dataframe tbody tr th:only-of-type {\n",
       "        vertical-align: middle;\n",
       "    }\n",
       "\n",
       "    .dataframe tbody tr th {\n",
       "        vertical-align: top;\n",
       "    }\n",
       "\n",
       "    .dataframe thead th {\n",
       "        text-align: right;\n",
       "    }\n",
       "</style>\n",
       "<table border=\"1\" class=\"dataframe\">\n",
       "  <thead>\n",
       "    <tr style=\"text-align: right;\">\n",
       "      <th></th>\n",
       "      <th>MinTemp</th>\n",
       "      <th>MaxTemp</th>\n",
       "      <th>Rainfall</th>\n",
       "      <th>WindGustSpeed</th>\n",
       "      <th>WindSpeed9am</th>\n",
       "      <th>WindSpeed3pm</th>\n",
       "      <th>Humidity9am</th>\n",
       "      <th>Humidity3pm</th>\n",
       "      <th>Pressure9am</th>\n",
       "      <th>Pressure3pm</th>\n",
       "      <th>Temp9am</th>\n",
       "      <th>Temp3pm</th>\n",
       "      <th>Year</th>\n",
       "      <th>Month</th>\n",
       "      <th>Day</th>\n",
       "      <th>Location_num</th>\n",
       "      <th>WindGustDir_num</th>\n",
       "      <th>WindDir9am_num</th>\n",
       "      <th>WindDir3pm_num</th>\n",
       "      <th>RainToday_num</th>\n",
       "    </tr>\n",
       "  </thead>\n",
       "  <tbody>\n",
       "    <tr>\n",
       "      <th>121386</th>\n",
       "      <td>7.3</td>\n",
       "      <td>17.1</td>\n",
       "      <td>0.0</td>\n",
       "      <td>19.0</td>\n",
       "      <td>0.0</td>\n",
       "      <td>9.0</td>\n",
       "      <td>92.0</td>\n",
       "      <td>53.0</td>\n",
       "      <td>1031.3</td>\n",
       "      <td>1028.2</td>\n",
       "      <td>9.3</td>\n",
       "      <td>16.8</td>\n",
       "      <td>2010</td>\n",
       "      <td>7</td>\n",
       "      <td>19</td>\n",
       "      <td>31</td>\n",
       "      <td>11</td>\n",
       "      <td>4</td>\n",
       "      <td>8</td>\n",
       "      <td>0</td>\n",
       "    </tr>\n",
       "    <tr>\n",
       "      <th>89941</th>\n",
       "      <td>20.0</td>\n",
       "      <td>28.0</td>\n",
       "      <td>0.8</td>\n",
       "      <td>39.0</td>\n",
       "      <td>20.0</td>\n",
       "      <td>26.0</td>\n",
       "      <td>76.0</td>\n",
       "      <td>56.0</td>\n",
       "      <td>1021.0</td>\n",
       "      <td>1016.5</td>\n",
       "      <td>23.0</td>\n",
       "      <td>27.3</td>\n",
       "      <td>2016</td>\n",
       "      <td>8</td>\n",
       "      <td>31</td>\n",
       "      <td>8</td>\n",
       "      <td>2</td>\n",
       "      <td>0</td>\n",
       "      <td>2</td>\n",
       "      <td>0</td>\n",
       "    </tr>\n",
       "    <tr>\n",
       "      <th>29675</th>\n",
       "      <td>16.7</td>\n",
       "      <td>30.3</td>\n",
       "      <td>0.0</td>\n",
       "      <td>30.0</td>\n",
       "      <td>6.0</td>\n",
       "      <td>9.0</td>\n",
       "      <td>81.0</td>\n",
       "      <td>51.0</td>\n",
       "      <td>1015.7</td>\n",
       "      <td>1012.9</td>\n",
       "      <td>22.0</td>\n",
       "      <td>28.9</td>\n",
       "      <td>2016</td>\n",
       "      <td>2</td>\n",
       "      <td>11</td>\n",
       "      <td>34</td>\n",
       "      <td>0</td>\n",
       "      <td>10</td>\n",
       "      <td>2</td>\n",
       "      <td>0</td>\n",
       "    </tr>\n",
       "    <tr>\n",
       "      <th>63870</th>\n",
       "      <td>0.2</td>\n",
       "      <td>19.6</td>\n",
       "      <td>0.0</td>\n",
       "      <td>35.0</td>\n",
       "      <td>6.0</td>\n",
       "      <td>11.0</td>\n",
       "      <td>99.0</td>\n",
       "      <td>59.0</td>\n",
       "      <td>1016.3</td>\n",
       "      <td>1010.4</td>\n",
       "      <td>6.9</td>\n",
       "      <td>15.8</td>\n",
       "      <td>2016</td>\n",
       "      <td>8</td>\n",
       "      <td>9</td>\n",
       "      <td>35</td>\n",
       "      <td>5</td>\n",
       "      <td>14</td>\n",
       "      <td>4</td>\n",
       "      <td>0</td>\n",
       "    </tr>\n",
       "    <tr>\n",
       "      <th>20226</th>\n",
       "      <td>21.1</td>\n",
       "      <td>26.7</td>\n",
       "      <td>0.0</td>\n",
       "      <td>39.0</td>\n",
       "      <td>11.0</td>\n",
       "      <td>26.0</td>\n",
       "      <td>56.0</td>\n",
       "      <td>70.0</td>\n",
       "      <td>1003.9</td>\n",
       "      <td>1004.2</td>\n",
       "      <td>26.0</td>\n",
       "      <td>25.9</td>\n",
       "      <td>2015</td>\n",
       "      <td>1</td>\n",
       "      <td>15</td>\n",
       "      <td>26</td>\n",
       "      <td>8</td>\n",
       "      <td>12</td>\n",
       "      <td>10</td>\n",
       "      <td>0</td>\n",
       "    </tr>\n",
       "  </tbody>\n",
       "</table>\n",
       "</div>"
      ],
      "text/plain": [
       "        MinTemp  MaxTemp  Rainfall  WindGustSpeed  WindSpeed9am  WindSpeed3pm  \\\n",
       "121386      7.3     17.1       0.0           19.0           0.0           9.0   \n",
       "89941      20.0     28.0       0.8           39.0          20.0          26.0   \n",
       "29675      16.7     30.3       0.0           30.0           6.0           9.0   \n",
       "63870       0.2     19.6       0.0           35.0           6.0          11.0   \n",
       "20226      21.1     26.7       0.0           39.0          11.0          26.0   \n",
       "\n",
       "        Humidity9am  Humidity3pm  Pressure9am  Pressure3pm  Temp9am  Temp3pm  \\\n",
       "121386         92.0         53.0       1031.3       1028.2      9.3     16.8   \n",
       "89941          76.0         56.0       1021.0       1016.5     23.0     27.3   \n",
       "29675          81.0         51.0       1015.7       1012.9     22.0     28.9   \n",
       "63870          99.0         59.0       1016.3       1010.4      6.9     15.8   \n",
       "20226          56.0         70.0       1003.9       1004.2     26.0     25.9   \n",
       "\n",
       "        Year  Month  Day  Location_num  WindGustDir_num  WindDir9am_num  \\\n",
       "121386  2010      7   19            31               11               4   \n",
       "89941   2016      8   31             8                2               0   \n",
       "29675   2016      2   11            34                0              10   \n",
       "63870   2016      8    9            35                5              14   \n",
       "20226   2015      1   15            26                8              12   \n",
       "\n",
       "        WindDir3pm_num  RainToday_num  \n",
       "121386               8              0  \n",
       "89941                2              0  \n",
       "29675                2              0  \n",
       "63870                4              0  \n",
       "20226               10              0  "
      ]
     },
     "execution_count": 22,
     "metadata": {},
     "output_type": "execute_result"
    }
   ],
   "source": [
    "# remove target value and addtional added columns\n",
    "X = stratified.drop(['RainTomorrow_num','pca1','pca2'], axis=1)\n",
    "y = stratified['RainTomorrow_num']\n",
    "print(f'shape of data matrix: {X.shape}')\n",
    "x_train, x_test, y_train, y_test = train_test_split(X, y, test_size=0.2, random_state=2)\n",
    "print(f'shape of train matrix: {x_train.shape}')\n",
    "print(f'shape of test matrix: {x_test.shape}')\n",
    "X.head()"
   ]
  },
  {
   "cell_type": "code",
   "execution_count": 23,
   "metadata": {
    "pycharm": {
     "name": "#%%\n"
    }
   },
   "outputs": [
    {
     "name": "stdout",
     "output_type": "stream",
     "text": [
      "\n",
      "Accuracy of Classifier on Test Image Data:  0.7725806451612903\n",
      "\n",
      "Recall (No Rain Tomorrow) of Classifier on Test Image Data:  0.7879371190247032\n",
      "Recall (Rain Tomorrow) of Classifier on Test Image Data:  0.7570548167369445\n",
      "\n",
      "Precision (No Rain Tomorrow) of Classifier on Test Image Data:  0.7663026521060843\n",
      "Precision (Rain Tomorrow) of Classifier on Test Image Data:  0.7792988313856427\n",
      "\n",
      "\n",
      "Confusion Matrix: \n",
      " [[4912 1322]\n",
      " [1498 4668]]\n",
      "The best parameters are: {'criterion': 'gini', 'max_depth': 8, 'splitter': 'best'}\n"
     ]
    },
    {
     "data": {
      "image/png": "[encoded data removed]",
      "text/plain": [
       "<Figure size 288x288 with 2 Axes>"
      ]
     },
     "metadata": {
      "needs_background": "light"
     },
     "output_type": "display_data"
    }
   ],
   "source": [
    "# train decision tree with created training set and evaluate on created target set\n",
    "params_dec_tree, model_dec_tree = train_dec_tree(x_train, y_train, param_grid)\n",
    "_ = get_evaluation(model_dec_tree, x_test, y_test)\n",
    "print(\"The best parameters are: {}\".format(params_dec_tree))"
   ]
  },
  {
   "cell_type": "code",
   "execution_count": 24,
   "metadata": {},
   "outputs": [
    {
     "name": "stdout",
     "output_type": "stream",
     "text": [
      "AUC score:\n",
      "0.8494503112528567\n"
     ]
    },
    {
     "data": {
      "image/png": "[encoded data removed]",
      "text/plain": [
       "<Figure size 432x288 with 1 Axes>"
      ]
     },
     "metadata": {
      "needs_background": "light"
     },
     "output_type": "display_data"
    }
   ],
   "source": [
    "# print AUC score and ROC curve\n",
    "get_ROC(model_dec_tree, x_test, y_test)"
   ]
  },
  {
   "cell_type": "code",
   "execution_count": 25,
   "metadata": {
    "pycharm": {
     "name": "#%%\n"
    }
   },
   "outputs": [
    {
     "data": {
      "image/png": "[encoded data removed]",
      "text/plain": [
       "<Figure size 432x288 with 1 Axes>"
      ]
     },
     "metadata": {
      "needs_background": "light"
     },
     "output_type": "display_data"
    }
   ],
   "source": [
    "# create overview of feature importance, of learned decision tree\n",
    "attribute_weights = pd.DataFrame({\n",
    "    'Attribute' : x_train.columns,\n",
    "    'Weight' : model_dec_tree.feature_importances_\n",
    "}).sort_values(by='Weight', ascending=False)\n",
    "plt.title('Importance of different Attributes')\n",
    "sns.barplot(data = attribute_weights, x='Weight', y='Attribute');"
   ]
  },
  {
   "cell_type": "markdown",
   "metadata": {
    "pycharm": {
     "name": "#%% md\n"
    }
   },
   "source": [
    "## Random Forest"
   ]
  },
  {
   "cell_type": "code",
   "execution_count": 26,
   "metadata": {
    "pycharm": {
     "name": "#%%\n"
    }
   },
   "outputs": [],
   "source": [
    "param_grid_forest = {\n",
    "    'criterion': ['gini','entropy'],\n",
    "    'max_depth': range(5,25)\n",
    "}\n",
    "\n",
    "\"\"\"\n",
    "Trains a random forest using cross-validation and returns certain attributes of the received model including the best\n",
    "parameter combination.\n",
    "@param x_train, np ndarray, data matrix\n",
    "@param y_train, np ndarray, data vector\n",
    "@param param_grid, dict, grid holding the paramaters for search\n",
    "\"\"\"\n",
    "def train_random_forest(x_train,y_train,param_grid):\n",
    "    ensemble = RandomForestClassifier(random_state=55)\n",
    "    model = GridSearchCV(ensemble,param_grid=param_grid, n_jobs = -1)\n",
    "    model.fit(x_train,y_train)\n",
    "    return model.best_params_,model.best_estimator_"
   ]
  },
  {
   "cell_type": "code",
   "execution_count": 27,
   "metadata": {
    "pycharm": {
     "name": "#%%\n"
    }
   },
   "outputs": [
    {
     "name": "stdout",
     "output_type": "stream",
     "text": [
      "\n",
      "Accuracy of Classifier on Test Image Data:  0.8013709677419355\n",
      "\n",
      "Recall (No Rain Tomorrow) of Classifier on Test Image Data:  0.8078280397818415\n",
      "Recall (Rain Tomorrow) of Classifier on Test Image Data:  0.7948426856957509\n",
      "\n",
      "Precision (No Rain Tomorrow) of Classifier on Test Image Data:  0.7992382161561656\n",
      "Precision (Rain Tomorrow) of Classifier on Test Image Data:  0.8035743564518774\n",
      "\n",
      "\n",
      "Confusion Matrix: \n",
      " [[5036 1198]\n",
      " [1265 4901]]\n",
      "The best parameters are: {'criterion': 'entropy', 'max_depth': 23}\n"
     ]
    },
    {
     "data": {
      "image/png": "[encoded data removed]",
      "text/plain": [
       "<Figure size 288x288 with 2 Axes>"
      ]
     },
     "metadata": {
      "needs_background": "light"
     },
     "output_type": "display_data"
    }
   ],
   "source": [
    "# train decision tree with created training set and evaluate on created target set\n",
    "params_random_forest, model_random_forest = train_random_forest(x_train, y_train, param_grid_forest)\n",
    "_ = get_evaluation(model_random_forest, x_test, y_test)\n",
    "print(\"The best parameters are: {}\".format(params_random_forest))"
   ]
  },
  {
   "cell_type": "code",
   "execution_count": 28,
   "metadata": {},
   "outputs": [
    {
     "name": "stdout",
     "output_type": "stream",
     "text": [
      "AUC score:\n",
      "0.8836974910067534\n"
     ]
    },
    {
     "data": {
      "image/png": "[encoded data removed]",
      "text/plain": [
       "<Figure size 432x288 with 1 Axes>"
      ]
     },
     "metadata": {
      "needs_background": "light"
     },
     "output_type": "display_data"
    }
   ],
   "source": [
    "# print AUC score and ROC curve\n",
    "get_ROC(model_random_forest, x_test, y_test)"
   ]
  },
  {
   "cell_type": "code",
   "execution_count": 29,
   "metadata": {
    "pycharm": {
     "name": "#%%\n"
    }
   },
   "outputs": [
    {
     "data": {
      "image/png": "[encoded data removed]",
      "text/plain": [
       "<Figure size 432x288 with 1 Axes>"
      ]
     },
     "metadata": {
      "needs_background": "light"
     },
     "output_type": "display_data"
    }
   ],
   "source": [
    "# create overview of feature importance, of learned decision tree\n",
    "attribute_weights = pd.DataFrame({\n",
    "    'Attribute' : x_train.columns,\n",
    "    'Weight' : model_random_forest.feature_importances_\n",
    "}).sort_values(by='Weight', ascending=False)\n",
    "plt.title('Importance of different Attributes')\n",
    "sns.barplot(data = attribute_weights, x='Weight', y='Attribute');"
   ]
  },
  {
   "cell_type": "markdown",
   "metadata": {
    "pycharm": {
     "name": "#%% md\n"
    }
   },
   "source": [
    "# Extreme Gradient Boosting"
   ]
  },
  {
   "cell_type": "code",
   "execution_count": 30,
   "metadata": {
    "pycharm": {
     "name": "#%%\n"
    }
   },
   "outputs": [
    {
     "data": {
      "text/plain": [
       "XGBClassifier(base_score=0.5, booster='gbtree', callbacks=None,\n",
       "              colsample_bylevel=1, colsample_bynode=1, colsample_bytree=1,\n",
       "              early_stopping_rounds=None, enable_categorical=False,\n",
       "              eval_metric=None, gamma=0, gpu_id=-1, grow_policy='depthwise',\n",
       "              importance_type=None, interaction_constraints='',\n",
       "              learning_rate=0.300000012, max_bin=256, max_cat_to_onehot=4,\n",
       "              max_delta_step=0, max_depth=6, max_leaves=0, min_child_weight=1,\n",
       "              missing=nan, monotone_constraints='()', n_estimators=100,\n",
       "              n_jobs=0, num_parallel_tree=1, predictor='auto', random_state=0,\n",
       "              reg_alpha=0, reg_lambda=1, ...)"
      ]
     },
     "execution_count": 30,
     "metadata": {},
     "output_type": "execute_result"
    }
   ],
   "source": [
    "xgb = XGBClassifier()\n",
    "xgb.fit(x_train, y_train)"
   ]
  },
  {
   "cell_type": "code",
   "execution_count": 31,
   "metadata": {
    "pycharm": {
     "name": "#%%\n"
    }
   },
   "outputs": [
    {
     "name": "stdout",
     "output_type": "stream",
     "text": [
      "\n",
      "Accuracy of Classifier on Test Image Data:  0.8062903225806451\n",
      "\n",
      "Recall (No Rain Tomorrow) of Classifier on Test Image Data:  0.8118383060635226\n",
      "Recall (Rain Tomorrow) of Classifier on Test Image Data:  0.8006811547194291\n",
      "\n",
      "Precision (No Rain Tomorrow) of Classifier on Test Image Data:  0.804610492845787\n",
      "Precision (Rain Tomorrow) of Classifier on Test Image Data:  0.8080196399345335\n",
      "\n",
      "\n",
      "Confusion Matrix: \n",
      " [[5061 1173]\n",
      " [1229 4937]]\n"
     ]
    },
    {
     "data": {
      "image/png": "[encoded data removed]",
      "text/plain": [
       "<Figure size 288x288 with 2 Axes>"
      ]
     },
     "metadata": {
      "needs_background": "light"
     },
     "output_type": "display_data"
    }
   ],
   "source": [
    "_ = get_evaluation(xgb, x_test, y_test)"
   ]
  },
  {
   "cell_type": "code",
   "execution_count": 32,
   "metadata": {},
   "outputs": [
    {
     "name": "stdout",
     "output_type": "stream",
     "text": [
      "AUC score:\n",
      "0.8871751320096931\n"
     ]
    },
    {
     "data": {
      "image/png": "[encoded data removed]",
      "text/plain": [
       "<Figure size 432x288 with 1 Axes>"
      ]
     },
     "metadata": {
      "needs_background": "light"
     },
     "output_type": "display_data"
    }
   ],
   "source": [
    "# print AUC score and ROC curve\n",
    "get_ROC(xgb, x_test, y_test)"
   ]
  },
  {
   "cell_type": "code",
   "execution_count": 33,
   "metadata": {
    "pycharm": {
     "name": "#%%\n"
    }
   },
   "outputs": [
    {
     "data": {
      "image/png": "[encoded data removed]",
      "text/plain": [
       "<Figure size 432x288 with 1 Axes>"
      ]
     },
     "metadata": {
      "needs_background": "light"
     },
     "output_type": "display_data"
    }
   ],
   "source": [
    "# create overview of feature importance, of learned decision tree\n",
    "attribute_weights = pd.DataFrame({\n",
    "    'Attribute' : x_train.columns,\n",
    "    'Weight' : xgb.feature_importances_\n",
    "}).sort_values(by='Weight', ascending=False)\n",
    "plt.title('Importance of different Attributes')\n",
    "sns.barplot(data = attribute_weights, x='Weight', y='Attribute');"
   ]
  },
  {
   "cell_type": "markdown",
   "metadata": {
    "pycharm": {
     "name": "#%% md\n"
    }
   },
   "source": [
    "# Regression\n",
    "\n",
    "In this part, are going to develop an estimator for the rainfall. Since, rainfall is a continuous variable, this is obviously a regression task.\n",
    "\n",
    "Since, this is going to be a multiple regression task, and therefore, not all variables might have a significant impact, we chose the best subset selection method\n",
    "for identifying the required variables."
   ]
  },
  {
   "cell_type": "markdown",
   "metadata": {
    "pycharm": {
     "name": "#%% md\n"
    }
   },
   "source": [
    "## Data preparation for the regression part"
   ]
  },
  {
   "cell_type": "code",
   "execution_count": 34,
   "metadata": {
    "pycharm": {
     "name": "#%%\n"
    }
   },
   "outputs": [],
   "source": [
    "x_train_reg = x_train.loc[x_train['Rainfall'] > 0, x_train.columns != 'Rainfall'].copy()\n",
    "x_test_reg = x_test.loc[x_test['Rainfall'] > 0, x_test.columns != 'Rainfall'].copy()\n",
    "\n",
    "y_train_reg = x_train[x_train['Rainfall'] > 0]['Rainfall'].copy()\n",
    "y_test_reg = x_test[x_test['Rainfall'] > 0]['Rainfall'].copy()"
   ]
  },
  {
   "cell_type": "markdown",
   "metadata": {
    "pycharm": {
     "name": "#%% md\n"
    }
   },
   "source": [
    "Now, after the data is prepared for the regression part, we now start the subset selection to retrieve.\n",
    "\n",
    "For this we are going to the use the abess package which uses the ABESS algorithm proposed by Zhu et al. (2020).\n",
    "\n",
    "Junxian Zhu, Canhong Wen, Jin Zhu, Heping Zhang, and Xueqin Wang. A polynomial\n",
    "algorithm for best-subset selection problem.\n",
    "Proceedings of the National Academy of\n",
    "Sciences, 2020.\n",
    "ISSN 0027-8424.\n",
    "doi: 10.1073/pnas.2014241117.\n",
    "URL https://www.\n",
    "pnas.org/content/early/2020/12/14/2014241117."
   ]
  },
  {
   "cell_type": "code",
   "execution_count": 35,
   "metadata": {
    "pycharm": {
     "name": "#%%\n"
    }
   },
   "outputs": [
    {
     "data": {
      "text/plain": [
       "<matplotlib.collections.PathCollection at 0x2349cce34f0>"
      ]
     },
     "execution_count": 35,
     "metadata": {},
     "output_type": "execute_result"
    },
    {
     "data": {
      "image/png": "[encoded data removed]",
      "text/plain": [
       "<Figure size 432x288 with 1 Axes>"
      ]
     },
     "metadata": {
      "needs_background": "light"
     },
     "output_type": "display_data"
    }
   ],
   "source": [
    "plt.scatter(x_train_reg['Humidity9am'], y_train_reg)"
   ]
  },
  {
   "cell_type": "code",
   "execution_count": 36,
   "metadata": {
    "pycharm": {
     "name": "#%%\n"
    }
   },
   "outputs": [
    {
     "data": {
      "text/plain": [
       "LinearRegression()"
      ]
     },
     "execution_count": 36,
     "metadata": {},
     "output_type": "execute_result"
    }
   ],
   "source": [
    "linear_regression_model = LinearRegression()\n",
    "linear_regression_model.fit(x_train_reg.to_numpy(), y_train_reg.to_numpy())"
   ]
  },
  {
   "cell_type": "code",
   "execution_count": 37,
   "metadata": {
    "pycharm": {
     "name": "#%%\n"
    }
   },
   "outputs": [
    {
     "data": {
      "text/plain": [
       "array([ 0,  1,  2,  3,  4,  5,  6,  7, 10, 12, 15, 16, 18], dtype=int64)"
      ]
     },
     "execution_count": 37,
     "metadata": {},
     "output_type": "execute_result"
    }
   ],
   "source": [
    "np.nonzero(linear_regression_model.coef_)[0]"
   ]
  },
  {
   "cell_type": "code",
   "execution_count": 38,
   "metadata": {
    "pycharm": {
     "name": "#%%\n"
    }
   },
   "outputs": [
    {
     "data": {
      "text/html": [
       "<table class=\"simpletable\">\n",
       "<caption>OLS Regression Results</caption>\n",
       "<tr>\n",
       "  <th>Dep. Variable:</th>        <td>Rainfall</td>     <th>  R-squared (uncentered):</th>      <td>   0.369</td> \n",
       "</tr>\n",
       "<tr>\n",
       "  <th>Model:</th>                   <td>OLS</td>       <th>  Adj. R-squared (uncentered):</th> <td>   0.368</td> \n",
       "</tr>\n",
       "<tr>\n",
       "  <th>Method:</th>             <td>Least Squares</td>  <th>  F-statistic:       </th>          <td>   1012.</td> \n",
       "</tr>\n",
       "<tr>\n",
       "  <th>Date:</th>             <td>Tue, 31 May 2022</td> <th>  Prob (F-statistic):</th>           <td>  0.00</td>  \n",
       "</tr>\n",
       "<tr>\n",
       "  <th>Time:</th>                 <td>14:50:01</td>     <th>  Log-Likelihood:    </th>          <td> -90845.</td> \n",
       "</tr>\n",
       "<tr>\n",
       "  <th>No. Observations:</th>      <td> 22538</td>      <th>  AIC:               </th>          <td>1.817e+05</td>\n",
       "</tr>\n",
       "<tr>\n",
       "  <th>Df Residuals:</th>          <td> 22525</td>      <th>  BIC:               </th>          <td>1.818e+05</td>\n",
       "</tr>\n",
       "<tr>\n",
       "  <th>Df Model:</th>              <td>    13</td>      <th>                     </th>              <td> </td>    \n",
       "</tr>\n",
       "<tr>\n",
       "  <th>Covariance Type:</th>      <td>nonrobust</td>    <th>                     </th>              <td> </td>    \n",
       "</tr>\n",
       "</table>\n",
       "<table class=\"simpletable\">\n",
       "<tr>\n",
       "         <td></td>            <th>coef</th>     <th>std err</th>      <th>t</th>      <th>P>|t|</th>  <th>[0.025</th>    <th>0.975]</th>  \n",
       "</tr>\n",
       "<tr>\n",
       "  <th>MinTemp</th>         <td>    0.1656</td> <td>    0.038</td> <td>    4.384</td> <td> 0.000</td> <td>    0.092</td> <td>    0.240</td>\n",
       "</tr>\n",
       "<tr>\n",
       "  <th>MaxTemp</th>         <td>   -0.3488</td> <td>    0.068</td> <td>   -5.106</td> <td> 0.000</td> <td>   -0.483</td> <td>   -0.215</td>\n",
       "</tr>\n",
       "<tr>\n",
       "  <th>WindGustSpeed</th>   <td>    0.1452</td> <td>    0.009</td> <td>   16.192</td> <td> 0.000</td> <td>    0.128</td> <td>    0.163</td>\n",
       "</tr>\n",
       "<tr>\n",
       "  <th>WindSpeed9am</th>    <td>    0.1210</td> <td>    0.014</td> <td>    8.902</td> <td> 0.000</td> <td>    0.094</td> <td>    0.148</td>\n",
       "</tr>\n",
       "<tr>\n",
       "  <th>WindSpeed3pm</th>    <td>   -0.1201</td> <td>    0.014</td> <td>   -8.767</td> <td> 0.000</td> <td>   -0.147</td> <td>   -0.093</td>\n",
       "</tr>\n",
       "<tr>\n",
       "  <th>Humidity9am</th>     <td>    0.1452</td> <td>    0.009</td> <td>   16.806</td> <td> 0.000</td> <td>    0.128</td> <td>    0.162</td>\n",
       "</tr>\n",
       "<tr>\n",
       "  <th>Humidity3pm</th>     <td>    0.0926</td> <td>    0.009</td> <td>   10.727</td> <td> 0.000</td> <td>    0.076</td> <td>    0.109</td>\n",
       "</tr>\n",
       "<tr>\n",
       "  <th>Pressure9am</th>     <td>   -0.0284</td> <td>    0.001</td> <td>  -26.330</td> <td> 0.000</td> <td>   -0.031</td> <td>   -0.026</td>\n",
       "</tr>\n",
       "<tr>\n",
       "  <th>Temp3pm</th>         <td>    0.6568</td> <td>    0.074</td> <td>    8.817</td> <td> 0.000</td> <td>    0.511</td> <td>    0.803</td>\n",
       "</tr>\n",
       "<tr>\n",
       "  <th>Month</th>           <td>   -0.0854</td> <td>    0.030</td> <td>   -2.862</td> <td> 0.004</td> <td>   -0.144</td> <td>   -0.027</td>\n",
       "</tr>\n",
       "<tr>\n",
       "  <th>WindGustDir_num</th> <td>   -0.0822</td> <td>    0.023</td> <td>   -3.596</td> <td> 0.000</td> <td>   -0.127</td> <td>   -0.037</td>\n",
       "</tr>\n",
       "<tr>\n",
       "  <th>WindDir9am_num</th>  <td>    0.1356</td> <td>    0.023</td> <td>    5.939</td> <td> 0.000</td> <td>    0.091</td> <td>    0.180</td>\n",
       "</tr>\n",
       "<tr>\n",
       "  <th>RainToday_num</th>   <td>    8.5603</td> <td>    0.210</td> <td>   40.830</td> <td> 0.000</td> <td>    8.149</td> <td>    8.971</td>\n",
       "</tr>\n",
       "</table>\n",
       "<table class=\"simpletable\">\n",
       "<tr>\n",
       "  <th>Omnibus:</th>       <td>26137.151</td> <th>  Durbin-Watson:     </th>  <td>   2.002</td>  \n",
       "</tr>\n",
       "<tr>\n",
       "  <th>Prob(Omnibus):</th>  <td> 0.000</td>   <th>  Jarque-Bera (JB):  </th> <td>4609433.505</td>\n",
       "</tr>\n",
       "<tr>\n",
       "  <th>Skew:</th>           <td> 5.934</td>   <th>  Prob(JB):          </th>  <td>    0.00</td>  \n",
       "</tr>\n",
       "<tr>\n",
       "  <th>Kurtosis:</th>       <td>72.048</td>   <th>  Cond. No.          </th>  <td>2.36e+03</td>  \n",
       "</tr>\n",
       "</table><br/><br/>Notes:<br/>[1] R² is computed without centering (uncentered) since the model does not contain a constant.<br/>[2] Standard Errors assume that the covariance matrix of the errors is correctly specified.<br/>[3] The condition number is large, 2.36e+03. This might indicate that there are<br/>strong multicollinearity or other numerical problems."
      ],
      "text/plain": [
       "<class 'statsmodels.iolib.summary.Summary'>\n",
       "\"\"\"\n",
       "                                 OLS Regression Results                                \n",
       "=======================================================================================\n",
       "Dep. Variable:               Rainfall   R-squared (uncentered):                   0.369\n",
       "Model:                            OLS   Adj. R-squared (uncentered):              0.368\n",
       "Method:                 Least Squares   F-statistic:                              1012.\n",
       "Date:                Tue, 31 May 2022   Prob (F-statistic):                        0.00\n",
       "Time:                        14:50:01   Log-Likelihood:                         -90845.\n",
       "No. Observations:               22538   AIC:                                  1.817e+05\n",
       "Df Residuals:                   22525   BIC:                                  1.818e+05\n",
       "Df Model:                          13                                                  \n",
       "Covariance Type:            nonrobust                                                  \n",
       "===================================================================================\n",
       "                      coef    std err          t      P>|t|      [0.025      0.975]\n",
       "-----------------------------------------------------------------------------------\n",
       "MinTemp             0.1656      0.038      4.384      0.000       0.092       0.240\n",
       "MaxTemp            -0.3488      0.068     -5.106      0.000      -0.483      -0.215\n",
       "WindGustSpeed       0.1452      0.009     16.192      0.000       0.128       0.163\n",
       "WindSpeed9am        0.1210      0.014      8.902      0.000       0.094       0.148\n",
       "WindSpeed3pm       -0.1201      0.014     -8.767      0.000      -0.147      -0.093\n",
       "Humidity9am         0.1452      0.009     16.806      0.000       0.128       0.162\n",
       "Humidity3pm         0.0926      0.009     10.727      0.000       0.076       0.109\n",
       "Pressure9am        -0.0284      0.001    -26.330      0.000      -0.031      -0.026\n",
       "Temp3pm             0.6568      0.074      8.817      0.000       0.511       0.803\n",
       "Month              -0.0854      0.030     -2.862      0.004      -0.144      -0.027\n",
       "WindGustDir_num    -0.0822      0.023     -3.596      0.000      -0.127      -0.037\n",
       "WindDir9am_num      0.1356      0.023      5.939      0.000       0.091       0.180\n",
       "RainToday_num       8.5603      0.210     40.830      0.000       8.149       8.971\n",
       "==============================================================================\n",
       "Omnibus:                    26137.151   Durbin-Watson:                   2.002\n",
       "Prob(Omnibus):                  0.000   Jarque-Bera (JB):          4609433.505\n",
       "Skew:                           5.934   Prob(JB):                         0.00\n",
       "Kurtosis:                      72.048   Cond. No.                     2.36e+03\n",
       "==============================================================================\n",
       "\n",
       "Notes:\n",
       "[1] R² is computed without centering (uncentered) since the model does not contain a constant.\n",
       "[2] Standard Errors assume that the covariance matrix of the errors is correctly specified.\n",
       "[3] The condition number is large, 2.36e+03. This might indicate that there are\n",
       "strong multicollinearity or other numerical problems.\n",
       "\"\"\""
      ]
     },
     "execution_count": 38,
     "metadata": {},
     "output_type": "execute_result"
    }
   ],
   "source": [
    "x_train_for_ols = x_train_reg.iloc[:,np.nonzero(linear_regression_model.coef_)[0]]\n",
    "res = sm.OLS(y_train_reg, x_train_for_ols).fit()\n",
    "res.summary()"
   ]
  },
  {
   "cell_type": "code",
   "execution_count": 39,
   "metadata": {
    "pycharm": {
     "name": "#%%\n"
    }
   },
   "outputs": [],
   "source": [
    "from sklearn import linear_model\n",
    "from sklearn.metrics import mean_squared_error\n",
    "import itertools\n",
    "\n",
    "def fit_linear_reg(X,Y):\n",
    "    #Fit linear regression model and return RSS and R squared values\n",
    "    model_k = linear_model.LinearRegression(fit_intercept = True)\n",
    "    model_k.fit(X,Y)\n",
    "    RSS = mean_squared_error(Y,model_k.predict(X)) * len(Y)\n",
    "    R_squared = model_k.score(X,Y)\n",
    "    return RSS, R_squared"
   ]
  },
  {
   "cell_type": "code",
   "execution_count": 40,
   "metadata": {
    "pycharm": {
     "name": "#%%\n"
    }
   },
   "outputs": [],
   "source": [
    "Y = y_train_reg\n",
    "X = x_train_reg\n",
    "k = len(X.columns)\n",
    "RSS_list, R_squared_list, feature_list = [],[], []\n",
    "numb_features = []\n",
    "\n",
    "remaining_features = list(X.columns.values)\n",
    "features = []\n",
    "RSS_list, R_squared_list = [np.inf], [np.inf] #Due to 1 indexing of the loop...\n",
    "features_list = dict()\n",
    "\n",
    "for i in range(1,k+1):\n",
    "    best_RSS = np.inf\n",
    "\n",
    "    for combo in itertools.combinations(remaining_features,1):\n",
    "\n",
    "        RSS = fit_linear_reg(X[list(combo) + features],Y)   #Store temp result\n",
    "\n",
    "        if RSS[0] < best_RSS:\n",
    "            best_RSS = RSS[0]\n",
    "            best_R_squared = RSS[1]\n",
    "            best_feature = combo[0]\n",
    "\n",
    "    #Updating variables for next loop\n",
    "    features.append(best_feature)\n",
    "    remaining_features.remove(best_feature)\n",
    "\n",
    "    #Saving values for plotting\n",
    "    RSS_list.append(best_RSS)\n",
    "    R_squared_list.append(best_R_squared)\n",
    "    features_list[i] = features.copy()"
   ]
  },
  {
   "cell_type": "code",
   "execution_count": 41,
   "metadata": {
    "pycharm": {
     "name": "#%%\n"
    }
   },
   "outputs": [],
   "source": [
    "df1 = pd.concat([pd.DataFrame({'features':features_list}),pd.DataFrame({'RSS':RSS_list, 'R_squared': R_squared_list})], axis=1, join='inner')\n",
    "df1['numb_features'] = df1.index"
   ]
  },
  {
   "cell_type": "markdown",
   "metadata": {
    "pycharm": {
     "name": "#%% md\n"
    }
   },
   "source": [
    "Calculating C\\_p, AIC and BIC"
   ]
  },
  {
   "cell_type": "code",
   "execution_count": 42,
   "metadata": {
    "pycharm": {
     "name": "#%%\n"
    }
   },
   "outputs": [
    {
     "data": {
      "text/html": [
       "<div>\n",
       "<style scoped>\n",
       "    .dataframe tbody tr th:only-of-type {\n",
       "        vertical-align: middle;\n",
       "    }\n",
       "\n",
       "    .dataframe tbody tr th {\n",
       "        vertical-align: top;\n",
       "    }\n",
       "\n",
       "    .dataframe thead th {\n",
       "        text-align: right;\n",
       "    }\n",
       "</style>\n",
       "<table border=\"1\" class=\"dataframe\">\n",
       "  <thead>\n",
       "    <tr style=\"text-align: right;\">\n",
       "      <th></th>\n",
       "      <th>features</th>\n",
       "      <th>RSS</th>\n",
       "      <th>R_squared</th>\n",
       "      <th>numb_features</th>\n",
       "      <th>C_p</th>\n",
       "      <th>AIC</th>\n",
       "      <th>BIC</th>\n",
       "      <th>R_squared_adj</th>\n",
       "    </tr>\n",
       "  </thead>\n",
       "  <tbody>\n",
       "    <tr>\n",
       "      <th>1</th>\n",
       "      <td>[RainToday_num]</td>\n",
       "      <td>4.546039e+06</td>\n",
       "      <td>0.117237</td>\n",
       "      <td>1</td>\n",
       "      <td>201.721976</td>\n",
       "      <td>1.089209</td>\n",
       "      <td>1.089565</td>\n",
       "      <td>0.117197</td>\n",
       "    </tr>\n",
       "    <tr>\n",
       "      <th>2</th>\n",
       "      <td>[RainToday_num, MinTemp]</td>\n",
       "      <td>4.418057e+06</td>\n",
       "      <td>0.142089</td>\n",
       "      <td>2</td>\n",
       "      <td>196.059875</td>\n",
       "      <td>1.058636</td>\n",
       "      <td>1.059348</td>\n",
       "      <td>0.142013</td>\n",
       "    </tr>\n",
       "    <tr>\n",
       "      <th>3</th>\n",
       "      <td>[RainToday_num, MinTemp, Humidity9am]</td>\n",
       "      <td>4.323817e+06</td>\n",
       "      <td>0.160388</td>\n",
       "      <td>3</td>\n",
       "      <td>191.894962</td>\n",
       "      <td>1.036147</td>\n",
       "      <td>1.037215</td>\n",
       "      <td>0.160277</td>\n",
       "    </tr>\n",
       "    <tr>\n",
       "      <th>4</th>\n",
       "      <td>[RainToday_num, MinTemp, Humidity9am, WindGust...</td>\n",
       "      <td>4.249877e+06</td>\n",
       "      <td>0.174746</td>\n",
       "      <td>4</td>\n",
       "      <td>188.630703</td>\n",
       "      <td>1.018522</td>\n",
       "      <td>1.019946</td>\n",
       "      <td>0.174600</td>\n",
       "    </tr>\n",
       "    <tr>\n",
       "      <th>5</th>\n",
       "      <td>[RainToday_num, MinTemp, Humidity9am, WindGust...</td>\n",
       "      <td>4.236782e+06</td>\n",
       "      <td>0.177289</td>\n",
       "      <td>5</td>\n",
       "      <td>188.066112</td>\n",
       "      <td>1.015473</td>\n",
       "      <td>1.017253</td>\n",
       "      <td>0.177107</td>\n",
       "    </tr>\n",
       "    <tr>\n",
       "      <th>6</th>\n",
       "      <td>[RainToday_num, MinTemp, Humidity9am, WindGust...</td>\n",
       "      <td>4.227136e+06</td>\n",
       "      <td>0.179162</td>\n",
       "      <td>6</td>\n",
       "      <td>187.654574</td>\n",
       "      <td>1.013251</td>\n",
       "      <td>1.015387</td>\n",
       "      <td>0.178944</td>\n",
       "    </tr>\n",
       "    <tr>\n",
       "      <th>7</th>\n",
       "      <td>[RainToday_num, MinTemp, Humidity9am, WindGust...</td>\n",
       "      <td>4.215913e+06</td>\n",
       "      <td>0.181342</td>\n",
       "      <td>7</td>\n",
       "      <td>187.173023</td>\n",
       "      <td>1.010651</td>\n",
       "      <td>1.013143</td>\n",
       "      <td>0.181087</td>\n",
       "    </tr>\n",
       "    <tr>\n",
       "      <th>8</th>\n",
       "      <td>[RainToday_num, MinTemp, Humidity9am, WindGust...</td>\n",
       "      <td>4.201898e+06</td>\n",
       "      <td>0.184063</td>\n",
       "      <td>8</td>\n",
       "      <td>186.567632</td>\n",
       "      <td>1.007382</td>\n",
       "      <td>1.010230</td>\n",
       "      <td>0.183773</td>\n",
       "    </tr>\n",
       "    <tr>\n",
       "      <th>9</th>\n",
       "      <td>[RainToday_num, MinTemp, Humidity9am, WindGust...</td>\n",
       "      <td>4.195035e+06</td>\n",
       "      <td>0.185396</td>\n",
       "      <td>9</td>\n",
       "      <td>186.279569</td>\n",
       "      <td>1.005827</td>\n",
       "      <td>1.009030</td>\n",
       "      <td>0.185070</td>\n",
       "    </tr>\n",
       "    <tr>\n",
       "      <th>10</th>\n",
       "      <td>[RainToday_num, MinTemp, Humidity9am, WindGust...</td>\n",
       "      <td>4.188069e+06</td>\n",
       "      <td>0.186748</td>\n",
       "      <td>10</td>\n",
       "      <td>185.986918</td>\n",
       "      <td>1.004246</td>\n",
       "      <td>1.007806</td>\n",
       "      <td>0.186387</td>\n",
       "    </tr>\n",
       "    <tr>\n",
       "      <th>11</th>\n",
       "      <td>[RainToday_num, MinTemp, Humidity9am, WindGust...</td>\n",
       "      <td>4.182939e+06</td>\n",
       "      <td>0.187745</td>\n",
       "      <td>11</td>\n",
       "      <td>185.775721</td>\n",
       "      <td>1.003106</td>\n",
       "      <td>1.007022</td>\n",
       "      <td>0.187348</td>\n",
       "    </tr>\n",
       "    <tr>\n",
       "      <th>12</th>\n",
       "      <td>[RainToday_num, MinTemp, Humidity9am, WindGust...</td>\n",
       "      <td>4.179588e+06</td>\n",
       "      <td>0.188395</td>\n",
       "      <td>12</td>\n",
       "      <td>185.643504</td>\n",
       "      <td>1.002392</td>\n",
       "      <td>1.006664</td>\n",
       "      <td>0.187963</td>\n",
       "    </tr>\n",
       "    <tr>\n",
       "      <th>13</th>\n",
       "      <td>[RainToday_num, MinTemp, Humidity9am, WindGust...</td>\n",
       "      <td>4.176750e+06</td>\n",
       "      <td>0.188946</td>\n",
       "      <td>13</td>\n",
       "      <td>185.534005</td>\n",
       "      <td>1.001801</td>\n",
       "      <td>1.006429</td>\n",
       "      <td>0.188478</td>\n",
       "    </tr>\n",
       "    <tr>\n",
       "      <th>14</th>\n",
       "      <td>[RainToday_num, MinTemp, Humidity9am, WindGust...</td>\n",
       "      <td>4.174998e+06</td>\n",
       "      <td>0.189286</td>\n",
       "      <td>14</td>\n",
       "      <td>185.472710</td>\n",
       "      <td>1.001470</td>\n",
       "      <td>1.006454</td>\n",
       "      <td>0.188783</td>\n",
       "    </tr>\n",
       "    <tr>\n",
       "      <th>15</th>\n",
       "      <td>[RainToday_num, MinTemp, Humidity9am, WindGust...</td>\n",
       "      <td>4.173140e+06</td>\n",
       "      <td>0.189647</td>\n",
       "      <td>15</td>\n",
       "      <td>185.406680</td>\n",
       "      <td>1.001113</td>\n",
       "      <td>1.006453</td>\n",
       "      <td>0.189108</td>\n",
       "    </tr>\n",
       "    <tr>\n",
       "      <th>16</th>\n",
       "      <td>[RainToday_num, MinTemp, Humidity9am, WindGust...</td>\n",
       "      <td>4.170891e+06</td>\n",
       "      <td>0.190084</td>\n",
       "      <td>16</td>\n",
       "      <td>185.323348</td>\n",
       "      <td>1.000663</td>\n",
       "      <td>1.006359</td>\n",
       "      <td>0.189509</td>\n",
       "    </tr>\n",
       "    <tr>\n",
       "      <th>17</th>\n",
       "      <td>[RainToday_num, MinTemp, Humidity9am, WindGust...</td>\n",
       "      <td>4.170511e+06</td>\n",
       "      <td>0.190158</td>\n",
       "      <td>17</td>\n",
       "      <td>185.322933</td>\n",
       "      <td>1.000661</td>\n",
       "      <td>1.006713</td>\n",
       "      <td>0.189546</td>\n",
       "    </tr>\n",
       "    <tr>\n",
       "      <th>18</th>\n",
       "      <td>[RainToday_num, MinTemp, Humidity9am, WindGust...</td>\n",
       "      <td>4.170409e+06</td>\n",
       "      <td>0.190178</td>\n",
       "      <td>18</td>\n",
       "      <td>185.334824</td>\n",
       "      <td>1.000725</td>\n",
       "      <td>1.007133</td>\n",
       "      <td>0.189530</td>\n",
       "    </tr>\n",
       "    <tr>\n",
       "      <th>19</th>\n",
       "      <td>[RainToday_num, MinTemp, Humidity9am, WindGust...</td>\n",
       "      <td>4.170344e+06</td>\n",
       "      <td>0.190190</td>\n",
       "      <td>19</td>\n",
       "      <td>185.348382</td>\n",
       "      <td>1.000799</td>\n",
       "      <td>1.007562</td>\n",
       "      <td>0.189507</td>\n",
       "    </tr>\n",
       "  </tbody>\n",
       "</table>\n",
       "</div>"
      ],
      "text/plain": [
       "                                             features           RSS  \\\n",
       "1                                     [RainToday_num]  4.546039e+06   \n",
       "2                            [RainToday_num, MinTemp]  4.418057e+06   \n",
       "3               [RainToday_num, MinTemp, Humidity9am]  4.323817e+06   \n",
       "4   [RainToday_num, MinTemp, Humidity9am, WindGust...  4.249877e+06   \n",
       "5   [RainToday_num, MinTemp, Humidity9am, WindGust...  4.236782e+06   \n",
       "6   [RainToday_num, MinTemp, Humidity9am, WindGust...  4.227136e+06   \n",
       "7   [RainToday_num, MinTemp, Humidity9am, WindGust...  4.215913e+06   \n",
       "8   [RainToday_num, MinTemp, Humidity9am, WindGust...  4.201898e+06   \n",
       "9   [RainToday_num, MinTemp, Humidity9am, WindGust...  4.195035e+06   \n",
       "10  [RainToday_num, MinTemp, Humidity9am, WindGust...  4.188069e+06   \n",
       "11  [RainToday_num, MinTemp, Humidity9am, WindGust...  4.182939e+06   \n",
       "12  [RainToday_num, MinTemp, Humidity9am, WindGust...  4.179588e+06   \n",
       "13  [RainToday_num, MinTemp, Humidity9am, WindGust...  4.176750e+06   \n",
       "14  [RainToday_num, MinTemp, Humidity9am, WindGust...  4.174998e+06   \n",
       "15  [RainToday_num, MinTemp, Humidity9am, WindGust...  4.173140e+06   \n",
       "16  [RainToday_num, MinTemp, Humidity9am, WindGust...  4.170891e+06   \n",
       "17  [RainToday_num, MinTemp, Humidity9am, WindGust...  4.170511e+06   \n",
       "18  [RainToday_num, MinTemp, Humidity9am, WindGust...  4.170409e+06   \n",
       "19  [RainToday_num, MinTemp, Humidity9am, WindGust...  4.170344e+06   \n",
       "\n",
       "    R_squared  numb_features         C_p       AIC       BIC  R_squared_adj  \n",
       "1    0.117237              1  201.721976  1.089209  1.089565       0.117197  \n",
       "2    0.142089              2  196.059875  1.058636  1.059348       0.142013  \n",
       "3    0.160388              3  191.894962  1.036147  1.037215       0.160277  \n",
       "4    0.174746              4  188.630703  1.018522  1.019946       0.174600  \n",
       "5    0.177289              5  188.066112  1.015473  1.017253       0.177107  \n",
       "6    0.179162              6  187.654574  1.013251  1.015387       0.178944  \n",
       "7    0.181342              7  187.173023  1.010651  1.013143       0.181087  \n",
       "8    0.184063              8  186.567632  1.007382  1.010230       0.183773  \n",
       "9    0.185396              9  186.279569  1.005827  1.009030       0.185070  \n",
       "10   0.186748             10  185.986918  1.004246  1.007806       0.186387  \n",
       "11   0.187745             11  185.775721  1.003106  1.007022       0.187348  \n",
       "12   0.188395             12  185.643504  1.002392  1.006664       0.187963  \n",
       "13   0.188946             13  185.534005  1.001801  1.006429       0.188478  \n",
       "14   0.189286             14  185.472710  1.001470  1.006454       0.188783  \n",
       "15   0.189647             15  185.406680  1.001113  1.006453       0.189108  \n",
       "16   0.190084             16  185.323348  1.000663  1.006359       0.189509  \n",
       "17   0.190158             17  185.322933  1.000661  1.006713       0.189546  \n",
       "18   0.190178             18  185.334824  1.000725  1.007133       0.189530  \n",
       "19   0.190190             19  185.348382  1.000799  1.007562       0.189507  "
      ]
     },
     "execution_count": 42,
     "metadata": {},
     "output_type": "execute_result"
    }
   ],
   "source": [
    "#Initializing useful variables\n",
    "m = len(Y)\n",
    "p = k\n",
    "hat_sigma_squared = (1/(m - p -1)) * min(df1['RSS'])\n",
    "\n",
    "#Computing\n",
    "df1['C_p'] = (1/m) * (df1['RSS'] + 2 * df1['numb_features'] * hat_sigma_squared )\n",
    "df1['AIC'] = (1/(m*hat_sigma_squared)) * (df1['RSS'] + 2 * df1['numb_features'] * hat_sigma_squared )\n",
    "df1['BIC'] = (1/(m*hat_sigma_squared)) * (df1['RSS'] +  np.log(m) * df1['numb_features'] * hat_sigma_squared )\n",
    "df1['R_squared_adj'] = 1 - ( (1 - df1['R_squared'])*(m-1)/(m-df1['numb_features'] -1))\n",
    "df1"
   ]
  },
  {
   "cell_type": "code",
   "execution_count": 43,
   "metadata": {
    "pycharm": {
     "name": "#%%\n"
    }
   },
   "outputs": [
    {
     "data": {
      "text/plain": [
       "0.18954641261078775"
      ]
     },
     "execution_count": 43,
     "metadata": {},
     "output_type": "execute_result"
    }
   ],
   "source": [
    "df1['R_squared_adj'].idxmax()\n",
    "df1['R_squared_adj'].max()"
   ]
  },
  {
   "cell_type": "code",
   "execution_count": 44,
   "metadata": {
    "pycharm": {
     "name": "#%%\n"
    }
   },
   "outputs": [
    {
     "data": {
      "image/png": "[encoded data removed]",
      "text/plain": [
       "<Figure size 1296x432 with 4 Axes>"
      ]
     },
     "metadata": {
      "needs_background": "light"
     },
     "output_type": "display_data"
    }
   ],
   "source": [
    "variables = ['C_p', 'AIC','BIC','R_squared_adj']\n",
    "fig = plt.figure(figsize = (18,6))\n",
    "\n",
    "for i,v in enumerate(variables):\n",
    "    ax = fig.add_subplot(1, 4, i+1)\n",
    "    ax.plot(df1['numb_features'],df1[v], color = 'lightblue')\n",
    "    ax.scatter(df1['numb_features'],df1[v], color = 'darkblue')\n",
    "    if v == 'R_squared_adj':\n",
    "        ax.plot(df1[v].idxmax(),df1[v].max(), marker = 'x', markersize = 20)\n",
    "    else:\n",
    "        ax.plot(df1[v].idxmin(),df1[v].min(), marker = 'x', markersize = 20)\n",
    "    ax.set_xlabel('Number of predictors')\n",
    "    ax.set_ylabel(v)\n",
    "\n",
    "fig.suptitle('Subset selection using C_p, AIC, BIC, Adjusted R2', fontsize = 16)\n",
    "plt.show()"
   ]
  },
  {
   "cell_type": "code",
   "execution_count": null,
   "metadata": {
    "pycharm": {
     "name": "#%%\n"
    }
   },
   "outputs": [],
   "source": []
  }
 ],
 "metadata": {
  "kernelspec": {
   "display_name": "Python 3 (ipykernel)",
   "language": "python",
   "name": "python3"
  },
  "language_info": {
   "codemirror_mode": {
    "name": "ipython",
    "version": 3
   },
   "file_extension": ".py",
   "mimetype": "text/x-python",
   "name": "python",
   "nbconvert_exporter": "python",
   "pygments_lexer": "ipython3",
   "version": "3.10.2"
  }
 },
 "nbformat": 4,
 "nbformat_minor": 4
}
